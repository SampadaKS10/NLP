{
  "nbformat": 4,
  "nbformat_minor": 0,
  "metadata": {
    "colab": {
      "provenance": []
    },
    "kernelspec": {
      "name": "python3",
      "display_name": "Python 3"
    },
    "language_info": {
      "name": "python"
    },
    "widgets": {
      "application/vnd.jupyter.widget-state+json": {
        "4dc32c2bf75048da9333a9e72735a8f9": {
          "model_module": "@jupyter-widgets/controls",
          "model_name": "HBoxModel",
          "model_module_version": "1.5.0",
          "state": {
            "_dom_classes": [],
            "_model_module": "@jupyter-widgets/controls",
            "_model_module_version": "1.5.0",
            "_model_name": "HBoxModel",
            "_view_count": null,
            "_view_module": "@jupyter-widgets/controls",
            "_view_module_version": "1.5.0",
            "_view_name": "HBoxView",
            "box_style": "",
            "children": [
              "IPY_MODEL_c934889f3de540908e4ffdb7effc134b",
              "IPY_MODEL_f4ec354df1ed4e3eadbecd1ece1758ab",
              "IPY_MODEL_71e74c6bb29a47c9b9df24b4f239adc4"
            ],
            "layout": "IPY_MODEL_a18b2330963b4ef5b5fb176114de0cb2"
          }
        },
        "c934889f3de540908e4ffdb7effc134b": {
          "model_module": "@jupyter-widgets/controls",
          "model_name": "HTMLModel",
          "model_module_version": "1.5.0",
          "state": {
            "_dom_classes": [],
            "_model_module": "@jupyter-widgets/controls",
            "_model_module_version": "1.5.0",
            "_model_name": "HTMLModel",
            "_view_count": null,
            "_view_module": "@jupyter-widgets/controls",
            "_view_module_version": "1.5.0",
            "_view_name": "HTMLView",
            "description": "",
            "description_tooltip": null,
            "layout": "IPY_MODEL_d75fee37fb9b481caa12a31a223a2aa0",
            "placeholder": "​",
            "style": "IPY_MODEL_a991075d43954a8f95a8feca7df6a94f",
            "value": "Downloading config.json: 100%"
          }
        },
        "f4ec354df1ed4e3eadbecd1ece1758ab": {
          "model_module": "@jupyter-widgets/controls",
          "model_name": "FloatProgressModel",
          "model_module_version": "1.5.0",
          "state": {
            "_dom_classes": [],
            "_model_module": "@jupyter-widgets/controls",
            "_model_module_version": "1.5.0",
            "_model_name": "FloatProgressModel",
            "_view_count": null,
            "_view_module": "@jupyter-widgets/controls",
            "_view_module_version": "1.5.0",
            "_view_name": "ProgressView",
            "bar_style": "success",
            "description": "",
            "description_tooltip": null,
            "layout": "IPY_MODEL_2b2cd7ae848243b196d26331cb3a35ff",
            "max": 571,
            "min": 0,
            "orientation": "horizontal",
            "style": "IPY_MODEL_c31c303c31164eaab42b302317a2e0d3",
            "value": 571
          }
        },
        "71e74c6bb29a47c9b9df24b4f239adc4": {
          "model_module": "@jupyter-widgets/controls",
          "model_name": "HTMLModel",
          "model_module_version": "1.5.0",
          "state": {
            "_dom_classes": [],
            "_model_module": "@jupyter-widgets/controls",
            "_model_module_version": "1.5.0",
            "_model_name": "HTMLModel",
            "_view_count": null,
            "_view_module": "@jupyter-widgets/controls",
            "_view_module_version": "1.5.0",
            "_view_name": "HTMLView",
            "description": "",
            "description_tooltip": null,
            "layout": "IPY_MODEL_b2f5780363cb4e4bbbce4e50f244ed6a",
            "placeholder": "​",
            "style": "IPY_MODEL_7c8ef53435384588892cd4a3eebe0524",
            "value": " 571/571 [00:00&lt;00:00, 7.65kB/s]"
          }
        },
        "a18b2330963b4ef5b5fb176114de0cb2": {
          "model_module": "@jupyter-widgets/base",
          "model_name": "LayoutModel",
          "model_module_version": "1.2.0",
          "state": {
            "_model_module": "@jupyter-widgets/base",
            "_model_module_version": "1.2.0",
            "_model_name": "LayoutModel",
            "_view_count": null,
            "_view_module": "@jupyter-widgets/base",
            "_view_module_version": "1.2.0",
            "_view_name": "LayoutView",
            "align_content": null,
            "align_items": null,
            "align_self": null,
            "border": null,
            "bottom": null,
            "display": null,
            "flex": null,
            "flex_flow": null,
            "grid_area": null,
            "grid_auto_columns": null,
            "grid_auto_flow": null,
            "grid_auto_rows": null,
            "grid_column": null,
            "grid_gap": null,
            "grid_row": null,
            "grid_template_areas": null,
            "grid_template_columns": null,
            "grid_template_rows": null,
            "height": null,
            "justify_content": null,
            "justify_items": null,
            "left": null,
            "margin": null,
            "max_height": null,
            "max_width": null,
            "min_height": null,
            "min_width": null,
            "object_fit": null,
            "object_position": null,
            "order": null,
            "overflow": null,
            "overflow_x": null,
            "overflow_y": null,
            "padding": null,
            "right": null,
            "top": null,
            "visibility": null,
            "width": null
          }
        },
        "d75fee37fb9b481caa12a31a223a2aa0": {
          "model_module": "@jupyter-widgets/base",
          "model_name": "LayoutModel",
          "model_module_version": "1.2.0",
          "state": {
            "_model_module": "@jupyter-widgets/base",
            "_model_module_version": "1.2.0",
            "_model_name": "LayoutModel",
            "_view_count": null,
            "_view_module": "@jupyter-widgets/base",
            "_view_module_version": "1.2.0",
            "_view_name": "LayoutView",
            "align_content": null,
            "align_items": null,
            "align_self": null,
            "border": null,
            "bottom": null,
            "display": null,
            "flex": null,
            "flex_flow": null,
            "grid_area": null,
            "grid_auto_columns": null,
            "grid_auto_flow": null,
            "grid_auto_rows": null,
            "grid_column": null,
            "grid_gap": null,
            "grid_row": null,
            "grid_template_areas": null,
            "grid_template_columns": null,
            "grid_template_rows": null,
            "height": null,
            "justify_content": null,
            "justify_items": null,
            "left": null,
            "margin": null,
            "max_height": null,
            "max_width": null,
            "min_height": null,
            "min_width": null,
            "object_fit": null,
            "object_position": null,
            "order": null,
            "overflow": null,
            "overflow_x": null,
            "overflow_y": null,
            "padding": null,
            "right": null,
            "top": null,
            "visibility": null,
            "width": null
          }
        },
        "a991075d43954a8f95a8feca7df6a94f": {
          "model_module": "@jupyter-widgets/controls",
          "model_name": "DescriptionStyleModel",
          "model_module_version": "1.5.0",
          "state": {
            "_model_module": "@jupyter-widgets/controls",
            "_model_module_version": "1.5.0",
            "_model_name": "DescriptionStyleModel",
            "_view_count": null,
            "_view_module": "@jupyter-widgets/base",
            "_view_module_version": "1.2.0",
            "_view_name": "StyleView",
            "description_width": ""
          }
        },
        "2b2cd7ae848243b196d26331cb3a35ff": {
          "model_module": "@jupyter-widgets/base",
          "model_name": "LayoutModel",
          "model_module_version": "1.2.0",
          "state": {
            "_model_module": "@jupyter-widgets/base",
            "_model_module_version": "1.2.0",
            "_model_name": "LayoutModel",
            "_view_count": null,
            "_view_module": "@jupyter-widgets/base",
            "_view_module_version": "1.2.0",
            "_view_name": "LayoutView",
            "align_content": null,
            "align_items": null,
            "align_self": null,
            "border": null,
            "bottom": null,
            "display": null,
            "flex": null,
            "flex_flow": null,
            "grid_area": null,
            "grid_auto_columns": null,
            "grid_auto_flow": null,
            "grid_auto_rows": null,
            "grid_column": null,
            "grid_gap": null,
            "grid_row": null,
            "grid_template_areas": null,
            "grid_template_columns": null,
            "grid_template_rows": null,
            "height": null,
            "justify_content": null,
            "justify_items": null,
            "left": null,
            "margin": null,
            "max_height": null,
            "max_width": null,
            "min_height": null,
            "min_width": null,
            "object_fit": null,
            "object_position": null,
            "order": null,
            "overflow": null,
            "overflow_x": null,
            "overflow_y": null,
            "padding": null,
            "right": null,
            "top": null,
            "visibility": null,
            "width": null
          }
        },
        "c31c303c31164eaab42b302317a2e0d3": {
          "model_module": "@jupyter-widgets/controls",
          "model_name": "ProgressStyleModel",
          "model_module_version": "1.5.0",
          "state": {
            "_model_module": "@jupyter-widgets/controls",
            "_model_module_version": "1.5.0",
            "_model_name": "ProgressStyleModel",
            "_view_count": null,
            "_view_module": "@jupyter-widgets/base",
            "_view_module_version": "1.2.0",
            "_view_name": "StyleView",
            "bar_color": null,
            "description_width": ""
          }
        },
        "b2f5780363cb4e4bbbce4e50f244ed6a": {
          "model_module": "@jupyter-widgets/base",
          "model_name": "LayoutModel",
          "model_module_version": "1.2.0",
          "state": {
            "_model_module": "@jupyter-widgets/base",
            "_model_module_version": "1.2.0",
            "_model_name": "LayoutModel",
            "_view_count": null,
            "_view_module": "@jupyter-widgets/base",
            "_view_module_version": "1.2.0",
            "_view_name": "LayoutView",
            "align_content": null,
            "align_items": null,
            "align_self": null,
            "border": null,
            "bottom": null,
            "display": null,
            "flex": null,
            "flex_flow": null,
            "grid_area": null,
            "grid_auto_columns": null,
            "grid_auto_flow": null,
            "grid_auto_rows": null,
            "grid_column": null,
            "grid_gap": null,
            "grid_row": null,
            "grid_template_areas": null,
            "grid_template_columns": null,
            "grid_template_rows": null,
            "height": null,
            "justify_content": null,
            "justify_items": null,
            "left": null,
            "margin": null,
            "max_height": null,
            "max_width": null,
            "min_height": null,
            "min_width": null,
            "object_fit": null,
            "object_position": null,
            "order": null,
            "overflow": null,
            "overflow_x": null,
            "overflow_y": null,
            "padding": null,
            "right": null,
            "top": null,
            "visibility": null,
            "width": null
          }
        },
        "7c8ef53435384588892cd4a3eebe0524": {
          "model_module": "@jupyter-widgets/controls",
          "model_name": "DescriptionStyleModel",
          "model_module_version": "1.5.0",
          "state": {
            "_model_module": "@jupyter-widgets/controls",
            "_model_module_version": "1.5.0",
            "_model_name": "DescriptionStyleModel",
            "_view_count": null,
            "_view_module": "@jupyter-widgets/base",
            "_view_module_version": "1.2.0",
            "_view_name": "StyleView",
            "description_width": ""
          }
        },
        "7d160422f9f6447c8dc0c271382c8d7a": {
          "model_module": "@jupyter-widgets/controls",
          "model_name": "HBoxModel",
          "model_module_version": "1.5.0",
          "state": {
            "_dom_classes": [],
            "_model_module": "@jupyter-widgets/controls",
            "_model_module_version": "1.5.0",
            "_model_name": "HBoxModel",
            "_view_count": null,
            "_view_module": "@jupyter-widgets/controls",
            "_view_module_version": "1.5.0",
            "_view_name": "HBoxView",
            "box_style": "",
            "children": [
              "IPY_MODEL_04be880f53be49969936405d9251f5d0",
              "IPY_MODEL_142c1d704aec4fa3865afd00014e3f23",
              "IPY_MODEL_c43a5047753340f7bf5b52a7a5a9f318"
            ],
            "layout": "IPY_MODEL_df7871b720744beb952850b63ae61585"
          }
        },
        "04be880f53be49969936405d9251f5d0": {
          "model_module": "@jupyter-widgets/controls",
          "model_name": "HTMLModel",
          "model_module_version": "1.5.0",
          "state": {
            "_dom_classes": [],
            "_model_module": "@jupyter-widgets/controls",
            "_model_module_version": "1.5.0",
            "_model_name": "HTMLModel",
            "_view_count": null,
            "_view_module": "@jupyter-widgets/controls",
            "_view_module_version": "1.5.0",
            "_view_name": "HTMLView",
            "description": "",
            "description_tooltip": null,
            "layout": "IPY_MODEL_793989882a3248b68f1ff2a5c692f0df",
            "placeholder": "​",
            "style": "IPY_MODEL_fcbd633f9bae4b22a7c0081668b3895b",
            "value": "Downloading pytorch_model.bin: 100%"
          }
        },
        "142c1d704aec4fa3865afd00014e3f23": {
          "model_module": "@jupyter-widgets/controls",
          "model_name": "FloatProgressModel",
          "model_module_version": "1.5.0",
          "state": {
            "_dom_classes": [],
            "_model_module": "@jupyter-widgets/controls",
            "_model_module_version": "1.5.0",
            "_model_name": "FloatProgressModel",
            "_view_count": null,
            "_view_module": "@jupyter-widgets/controls",
            "_view_module_version": "1.5.0",
            "_view_name": "ProgressView",
            "bar_style": "success",
            "description": "",
            "description_tooltip": null,
            "layout": "IPY_MODEL_43a4349b6f63430687fae2301f9f8638",
            "max": 496313727,
            "min": 0,
            "orientation": "horizontal",
            "style": "IPY_MODEL_03de59e694f04e3380a4b31d2044db14",
            "value": 496313727
          }
        },
        "c43a5047753340f7bf5b52a7a5a9f318": {
          "model_module": "@jupyter-widgets/controls",
          "model_name": "HTMLModel",
          "model_module_version": "1.5.0",
          "state": {
            "_dom_classes": [],
            "_model_module": "@jupyter-widgets/controls",
            "_model_module_version": "1.5.0",
            "_model_name": "HTMLModel",
            "_view_count": null,
            "_view_module": "@jupyter-widgets/controls",
            "_view_module_version": "1.5.0",
            "_view_name": "HTMLView",
            "description": "",
            "description_tooltip": null,
            "layout": "IPY_MODEL_29cb743c66a940efbe133d42adb07a5e",
            "placeholder": "​",
            "style": "IPY_MODEL_217e404c39b64d8bb7d982f9c8e53c17",
            "value": " 473M/473M [00:11&lt;00:00, 59.5MB/s]"
          }
        },
        "df7871b720744beb952850b63ae61585": {
          "model_module": "@jupyter-widgets/base",
          "model_name": "LayoutModel",
          "model_module_version": "1.2.0",
          "state": {
            "_model_module": "@jupyter-widgets/base",
            "_model_module_version": "1.2.0",
            "_model_name": "LayoutModel",
            "_view_count": null,
            "_view_module": "@jupyter-widgets/base",
            "_view_module_version": "1.2.0",
            "_view_name": "LayoutView",
            "align_content": null,
            "align_items": null,
            "align_self": null,
            "border": null,
            "bottom": null,
            "display": null,
            "flex": null,
            "flex_flow": null,
            "grid_area": null,
            "grid_auto_columns": null,
            "grid_auto_flow": null,
            "grid_auto_rows": null,
            "grid_column": null,
            "grid_gap": null,
            "grid_row": null,
            "grid_template_areas": null,
            "grid_template_columns": null,
            "grid_template_rows": null,
            "height": null,
            "justify_content": null,
            "justify_items": null,
            "left": null,
            "margin": null,
            "max_height": null,
            "max_width": null,
            "min_height": null,
            "min_width": null,
            "object_fit": null,
            "object_position": null,
            "order": null,
            "overflow": null,
            "overflow_x": null,
            "overflow_y": null,
            "padding": null,
            "right": null,
            "top": null,
            "visibility": null,
            "width": null
          }
        },
        "793989882a3248b68f1ff2a5c692f0df": {
          "model_module": "@jupyter-widgets/base",
          "model_name": "LayoutModel",
          "model_module_version": "1.2.0",
          "state": {
            "_model_module": "@jupyter-widgets/base",
            "_model_module_version": "1.2.0",
            "_model_name": "LayoutModel",
            "_view_count": null,
            "_view_module": "@jupyter-widgets/base",
            "_view_module_version": "1.2.0",
            "_view_name": "LayoutView",
            "align_content": null,
            "align_items": null,
            "align_self": null,
            "border": null,
            "bottom": null,
            "display": null,
            "flex": null,
            "flex_flow": null,
            "grid_area": null,
            "grid_auto_columns": null,
            "grid_auto_flow": null,
            "grid_auto_rows": null,
            "grid_column": null,
            "grid_gap": null,
            "grid_row": null,
            "grid_template_areas": null,
            "grid_template_columns": null,
            "grid_template_rows": null,
            "height": null,
            "justify_content": null,
            "justify_items": null,
            "left": null,
            "margin": null,
            "max_height": null,
            "max_width": null,
            "min_height": null,
            "min_width": null,
            "object_fit": null,
            "object_position": null,
            "order": null,
            "overflow": null,
            "overflow_x": null,
            "overflow_y": null,
            "padding": null,
            "right": null,
            "top": null,
            "visibility": null,
            "width": null
          }
        },
        "fcbd633f9bae4b22a7c0081668b3895b": {
          "model_module": "@jupyter-widgets/controls",
          "model_name": "DescriptionStyleModel",
          "model_module_version": "1.5.0",
          "state": {
            "_model_module": "@jupyter-widgets/controls",
            "_model_module_version": "1.5.0",
            "_model_name": "DescriptionStyleModel",
            "_view_count": null,
            "_view_module": "@jupyter-widgets/base",
            "_view_module_version": "1.2.0",
            "_view_name": "StyleView",
            "description_width": ""
          }
        },
        "43a4349b6f63430687fae2301f9f8638": {
          "model_module": "@jupyter-widgets/base",
          "model_name": "LayoutModel",
          "model_module_version": "1.2.0",
          "state": {
            "_model_module": "@jupyter-widgets/base",
            "_model_module_version": "1.2.0",
            "_model_name": "LayoutModel",
            "_view_count": null,
            "_view_module": "@jupyter-widgets/base",
            "_view_module_version": "1.2.0",
            "_view_name": "LayoutView",
            "align_content": null,
            "align_items": null,
            "align_self": null,
            "border": null,
            "bottom": null,
            "display": null,
            "flex": null,
            "flex_flow": null,
            "grid_area": null,
            "grid_auto_columns": null,
            "grid_auto_flow": null,
            "grid_auto_rows": null,
            "grid_column": null,
            "grid_gap": null,
            "grid_row": null,
            "grid_template_areas": null,
            "grid_template_columns": null,
            "grid_template_rows": null,
            "height": null,
            "justify_content": null,
            "justify_items": null,
            "left": null,
            "margin": null,
            "max_height": null,
            "max_width": null,
            "min_height": null,
            "min_width": null,
            "object_fit": null,
            "object_position": null,
            "order": null,
            "overflow": null,
            "overflow_x": null,
            "overflow_y": null,
            "padding": null,
            "right": null,
            "top": null,
            "visibility": null,
            "width": null
          }
        },
        "03de59e694f04e3380a4b31d2044db14": {
          "model_module": "@jupyter-widgets/controls",
          "model_name": "ProgressStyleModel",
          "model_module_version": "1.5.0",
          "state": {
            "_model_module": "@jupyter-widgets/controls",
            "_model_module_version": "1.5.0",
            "_model_name": "ProgressStyleModel",
            "_view_count": null,
            "_view_module": "@jupyter-widgets/base",
            "_view_module_version": "1.2.0",
            "_view_name": "StyleView",
            "bar_color": null,
            "description_width": ""
          }
        },
        "29cb743c66a940efbe133d42adb07a5e": {
          "model_module": "@jupyter-widgets/base",
          "model_name": "LayoutModel",
          "model_module_version": "1.2.0",
          "state": {
            "_model_module": "@jupyter-widgets/base",
            "_model_module_version": "1.2.0",
            "_model_name": "LayoutModel",
            "_view_count": null,
            "_view_module": "@jupyter-widgets/base",
            "_view_module_version": "1.2.0",
            "_view_name": "LayoutView",
            "align_content": null,
            "align_items": null,
            "align_self": null,
            "border": null,
            "bottom": null,
            "display": null,
            "flex": null,
            "flex_flow": null,
            "grid_area": null,
            "grid_auto_columns": null,
            "grid_auto_flow": null,
            "grid_auto_rows": null,
            "grid_column": null,
            "grid_gap": null,
            "grid_row": null,
            "grid_template_areas": null,
            "grid_template_columns": null,
            "grid_template_rows": null,
            "height": null,
            "justify_content": null,
            "justify_items": null,
            "left": null,
            "margin": null,
            "max_height": null,
            "max_width": null,
            "min_height": null,
            "min_width": null,
            "object_fit": null,
            "object_position": null,
            "order": null,
            "overflow": null,
            "overflow_x": null,
            "overflow_y": null,
            "padding": null,
            "right": null,
            "top": null,
            "visibility": null,
            "width": null
          }
        },
        "217e404c39b64d8bb7d982f9c8e53c17": {
          "model_module": "@jupyter-widgets/controls",
          "model_name": "DescriptionStyleModel",
          "model_module_version": "1.5.0",
          "state": {
            "_model_module": "@jupyter-widgets/controls",
            "_model_module_version": "1.5.0",
            "_model_name": "DescriptionStyleModel",
            "_view_count": null,
            "_view_module": "@jupyter-widgets/base",
            "_view_module_version": "1.2.0",
            "_view_name": "StyleView",
            "description_width": ""
          }
        },
        "21b75ac68d9c4c319989435a6a72d010": {
          "model_module": "@jupyter-widgets/controls",
          "model_name": "HBoxModel",
          "model_module_version": "1.5.0",
          "state": {
            "_dom_classes": [],
            "_model_module": "@jupyter-widgets/controls",
            "_model_module_version": "1.5.0",
            "_model_name": "HBoxModel",
            "_view_count": null,
            "_view_module": "@jupyter-widgets/controls",
            "_view_module_version": "1.5.0",
            "_view_name": "HBoxView",
            "box_style": "",
            "children": [
              "IPY_MODEL_a5ec9231723d48218f7c25a299171899",
              "IPY_MODEL_b0257e0d31b54cb38ff6b8ad75d69351",
              "IPY_MODEL_8f3b5245ae53424abdad76144b6fe195"
            ],
            "layout": "IPY_MODEL_1f6fe6392d7444a39b0fd370621b5668"
          }
        },
        "a5ec9231723d48218f7c25a299171899": {
          "model_module": "@jupyter-widgets/controls",
          "model_name": "HTMLModel",
          "model_module_version": "1.5.0",
          "state": {
            "_dom_classes": [],
            "_model_module": "@jupyter-widgets/controls",
            "_model_module_version": "1.5.0",
            "_model_name": "HTMLModel",
            "_view_count": null,
            "_view_module": "@jupyter-widgets/controls",
            "_view_module_version": "1.5.0",
            "_view_name": "HTMLView",
            "description": "",
            "description_tooltip": null,
            "layout": "IPY_MODEL_1c17394c65754e7f8dcf0b33db78597b",
            "placeholder": "​",
            "style": "IPY_MODEL_8ed7be6bc1104864bcbdf5b5979e82ac",
            "value": "Downloading tokenizer_config.json: 100%"
          }
        },
        "b0257e0d31b54cb38ff6b8ad75d69351": {
          "model_module": "@jupyter-widgets/controls",
          "model_name": "FloatProgressModel",
          "model_module_version": "1.5.0",
          "state": {
            "_dom_classes": [],
            "_model_module": "@jupyter-widgets/controls",
            "_model_module_version": "1.5.0",
            "_model_name": "FloatProgressModel",
            "_view_count": null,
            "_view_module": "@jupyter-widgets/controls",
            "_view_module_version": "1.5.0",
            "_view_name": "ProgressView",
            "bar_style": "success",
            "description": "",
            "description_tooltip": null,
            "layout": "IPY_MODEL_3dbc04e645fc4bbbb85c4b0f8fceafaf",
            "max": 79,
            "min": 0,
            "orientation": "horizontal",
            "style": "IPY_MODEL_88660520d7e64e10aae47f20338307dd",
            "value": 79
          }
        },
        "8f3b5245ae53424abdad76144b6fe195": {
          "model_module": "@jupyter-widgets/controls",
          "model_name": "HTMLModel",
          "model_module_version": "1.5.0",
          "state": {
            "_dom_classes": [],
            "_model_module": "@jupyter-widgets/controls",
            "_model_module_version": "1.5.0",
            "_model_name": "HTMLModel",
            "_view_count": null,
            "_view_module": "@jupyter-widgets/controls",
            "_view_module_version": "1.5.0",
            "_view_name": "HTMLView",
            "description": "",
            "description_tooltip": null,
            "layout": "IPY_MODEL_2758f83f89934662b3b690cc9ab2525f",
            "placeholder": "​",
            "style": "IPY_MODEL_d2209e08bf104ceabbc3f5788a2a37b7",
            "value": " 79.0/79.0 [00:00&lt;00:00, 2.37kB/s]"
          }
        },
        "1f6fe6392d7444a39b0fd370621b5668": {
          "model_module": "@jupyter-widgets/base",
          "model_name": "LayoutModel",
          "model_module_version": "1.2.0",
          "state": {
            "_model_module": "@jupyter-widgets/base",
            "_model_module_version": "1.2.0",
            "_model_name": "LayoutModel",
            "_view_count": null,
            "_view_module": "@jupyter-widgets/base",
            "_view_module_version": "1.2.0",
            "_view_name": "LayoutView",
            "align_content": null,
            "align_items": null,
            "align_self": null,
            "border": null,
            "bottom": null,
            "display": null,
            "flex": null,
            "flex_flow": null,
            "grid_area": null,
            "grid_auto_columns": null,
            "grid_auto_flow": null,
            "grid_auto_rows": null,
            "grid_column": null,
            "grid_gap": null,
            "grid_row": null,
            "grid_template_areas": null,
            "grid_template_columns": null,
            "grid_template_rows": null,
            "height": null,
            "justify_content": null,
            "justify_items": null,
            "left": null,
            "margin": null,
            "max_height": null,
            "max_width": null,
            "min_height": null,
            "min_width": null,
            "object_fit": null,
            "object_position": null,
            "order": null,
            "overflow": null,
            "overflow_x": null,
            "overflow_y": null,
            "padding": null,
            "right": null,
            "top": null,
            "visibility": null,
            "width": null
          }
        },
        "1c17394c65754e7f8dcf0b33db78597b": {
          "model_module": "@jupyter-widgets/base",
          "model_name": "LayoutModel",
          "model_module_version": "1.2.0",
          "state": {
            "_model_module": "@jupyter-widgets/base",
            "_model_module_version": "1.2.0",
            "_model_name": "LayoutModel",
            "_view_count": null,
            "_view_module": "@jupyter-widgets/base",
            "_view_module_version": "1.2.0",
            "_view_name": "LayoutView",
            "align_content": null,
            "align_items": null,
            "align_self": null,
            "border": null,
            "bottom": null,
            "display": null,
            "flex": null,
            "flex_flow": null,
            "grid_area": null,
            "grid_auto_columns": null,
            "grid_auto_flow": null,
            "grid_auto_rows": null,
            "grid_column": null,
            "grid_gap": null,
            "grid_row": null,
            "grid_template_areas": null,
            "grid_template_columns": null,
            "grid_template_rows": null,
            "height": null,
            "justify_content": null,
            "justify_items": null,
            "left": null,
            "margin": null,
            "max_height": null,
            "max_width": null,
            "min_height": null,
            "min_width": null,
            "object_fit": null,
            "object_position": null,
            "order": null,
            "overflow": null,
            "overflow_x": null,
            "overflow_y": null,
            "padding": null,
            "right": null,
            "top": null,
            "visibility": null,
            "width": null
          }
        },
        "8ed7be6bc1104864bcbdf5b5979e82ac": {
          "model_module": "@jupyter-widgets/controls",
          "model_name": "DescriptionStyleModel",
          "model_module_version": "1.5.0",
          "state": {
            "_model_module": "@jupyter-widgets/controls",
            "_model_module_version": "1.5.0",
            "_model_name": "DescriptionStyleModel",
            "_view_count": null,
            "_view_module": "@jupyter-widgets/base",
            "_view_module_version": "1.2.0",
            "_view_name": "StyleView",
            "description_width": ""
          }
        },
        "3dbc04e645fc4bbbb85c4b0f8fceafaf": {
          "model_module": "@jupyter-widgets/base",
          "model_name": "LayoutModel",
          "model_module_version": "1.2.0",
          "state": {
            "_model_module": "@jupyter-widgets/base",
            "_model_module_version": "1.2.0",
            "_model_name": "LayoutModel",
            "_view_count": null,
            "_view_module": "@jupyter-widgets/base",
            "_view_module_version": "1.2.0",
            "_view_name": "LayoutView",
            "align_content": null,
            "align_items": null,
            "align_self": null,
            "border": null,
            "bottom": null,
            "display": null,
            "flex": null,
            "flex_flow": null,
            "grid_area": null,
            "grid_auto_columns": null,
            "grid_auto_flow": null,
            "grid_auto_rows": null,
            "grid_column": null,
            "grid_gap": null,
            "grid_row": null,
            "grid_template_areas": null,
            "grid_template_columns": null,
            "grid_template_rows": null,
            "height": null,
            "justify_content": null,
            "justify_items": null,
            "left": null,
            "margin": null,
            "max_height": null,
            "max_width": null,
            "min_height": null,
            "min_width": null,
            "object_fit": null,
            "object_position": null,
            "order": null,
            "overflow": null,
            "overflow_x": null,
            "overflow_y": null,
            "padding": null,
            "right": null,
            "top": null,
            "visibility": null,
            "width": null
          }
        },
        "88660520d7e64e10aae47f20338307dd": {
          "model_module": "@jupyter-widgets/controls",
          "model_name": "ProgressStyleModel",
          "model_module_version": "1.5.0",
          "state": {
            "_model_module": "@jupyter-widgets/controls",
            "_model_module_version": "1.5.0",
            "_model_name": "ProgressStyleModel",
            "_view_count": null,
            "_view_module": "@jupyter-widgets/base",
            "_view_module_version": "1.2.0",
            "_view_name": "StyleView",
            "bar_color": null,
            "description_width": ""
          }
        },
        "2758f83f89934662b3b690cc9ab2525f": {
          "model_module": "@jupyter-widgets/base",
          "model_name": "LayoutModel",
          "model_module_version": "1.2.0",
          "state": {
            "_model_module": "@jupyter-widgets/base",
            "_model_module_version": "1.2.0",
            "_model_name": "LayoutModel",
            "_view_count": null,
            "_view_module": "@jupyter-widgets/base",
            "_view_module_version": "1.2.0",
            "_view_name": "LayoutView",
            "align_content": null,
            "align_items": null,
            "align_self": null,
            "border": null,
            "bottom": null,
            "display": null,
            "flex": null,
            "flex_flow": null,
            "grid_area": null,
            "grid_auto_columns": null,
            "grid_auto_flow": null,
            "grid_auto_rows": null,
            "grid_column": null,
            "grid_gap": null,
            "grid_row": null,
            "grid_template_areas": null,
            "grid_template_columns": null,
            "grid_template_rows": null,
            "height": null,
            "justify_content": null,
            "justify_items": null,
            "left": null,
            "margin": null,
            "max_height": null,
            "max_width": null,
            "min_height": null,
            "min_width": null,
            "object_fit": null,
            "object_position": null,
            "order": null,
            "overflow": null,
            "overflow_x": null,
            "overflow_y": null,
            "padding": null,
            "right": null,
            "top": null,
            "visibility": null,
            "width": null
          }
        },
        "d2209e08bf104ceabbc3f5788a2a37b7": {
          "model_module": "@jupyter-widgets/controls",
          "model_name": "DescriptionStyleModel",
          "model_module_version": "1.5.0",
          "state": {
            "_model_module": "@jupyter-widgets/controls",
            "_model_module_version": "1.5.0",
            "_model_name": "DescriptionStyleModel",
            "_view_count": null,
            "_view_module": "@jupyter-widgets/base",
            "_view_module_version": "1.2.0",
            "_view_name": "StyleView",
            "description_width": ""
          }
        },
        "02ca7c08c388457da4fefae6569ac192": {
          "model_module": "@jupyter-widgets/controls",
          "model_name": "HBoxModel",
          "model_module_version": "1.5.0",
          "state": {
            "_dom_classes": [],
            "_model_module": "@jupyter-widgets/controls",
            "_model_module_version": "1.5.0",
            "_model_name": "HBoxModel",
            "_view_count": null,
            "_view_module": "@jupyter-widgets/controls",
            "_view_module_version": "1.5.0",
            "_view_name": "HBoxView",
            "box_style": "",
            "children": [
              "IPY_MODEL_c54eb331057f4190be7c5a3dceb14a55",
              "IPY_MODEL_46d437f7dd504c6b9a6b71911d709016",
              "IPY_MODEL_d1bef8499395426495c57f63df327d10"
            ],
            "layout": "IPY_MODEL_5111ed519f254fd0adb7ad68d9a7a867"
          }
        },
        "c54eb331057f4190be7c5a3dceb14a55": {
          "model_module": "@jupyter-widgets/controls",
          "model_name": "HTMLModel",
          "model_module_version": "1.5.0",
          "state": {
            "_dom_classes": [],
            "_model_module": "@jupyter-widgets/controls",
            "_model_module_version": "1.5.0",
            "_model_name": "HTMLModel",
            "_view_count": null,
            "_view_module": "@jupyter-widgets/controls",
            "_view_module_version": "1.5.0",
            "_view_name": "HTMLView",
            "description": "",
            "description_tooltip": null,
            "layout": "IPY_MODEL_8718d67010df4b5292ea7785ac214394",
            "placeholder": "​",
            "style": "IPY_MODEL_391d11c110a444ffb4c6a0f91ffec39f",
            "value": "Downloading vocab.json: 100%"
          }
        },
        "46d437f7dd504c6b9a6b71911d709016": {
          "model_module": "@jupyter-widgets/controls",
          "model_name": "FloatProgressModel",
          "model_module_version": "1.5.0",
          "state": {
            "_dom_classes": [],
            "_model_module": "@jupyter-widgets/controls",
            "_model_module_version": "1.5.0",
            "_model_name": "FloatProgressModel",
            "_view_count": null,
            "_view_module": "@jupyter-widgets/controls",
            "_view_module_version": "1.5.0",
            "_view_name": "ProgressView",
            "bar_style": "success",
            "description": "",
            "description_tooltip": null,
            "layout": "IPY_MODEL_90222a0180c949a8a2750d7a875c8f58",
            "max": 898822,
            "min": 0,
            "orientation": "horizontal",
            "style": "IPY_MODEL_95a58f3c859c413fa880266b27619335",
            "value": 898822
          }
        },
        "d1bef8499395426495c57f63df327d10": {
          "model_module": "@jupyter-widgets/controls",
          "model_name": "HTMLModel",
          "model_module_version": "1.5.0",
          "state": {
            "_dom_classes": [],
            "_model_module": "@jupyter-widgets/controls",
            "_model_module_version": "1.5.0",
            "_model_name": "HTMLModel",
            "_view_count": null,
            "_view_module": "@jupyter-widgets/controls",
            "_view_module_version": "1.5.0",
            "_view_name": "HTMLView",
            "description": "",
            "description_tooltip": null,
            "layout": "IPY_MODEL_95129980bbe844bf8c28400a5a694b8c",
            "placeholder": "​",
            "style": "IPY_MODEL_8b3243fcb0e54bb680e10eb38cb874fb",
            "value": " 878k/878k [00:00&lt;00:00, 2.81MB/s]"
          }
        },
        "5111ed519f254fd0adb7ad68d9a7a867": {
          "model_module": "@jupyter-widgets/base",
          "model_name": "LayoutModel",
          "model_module_version": "1.2.0",
          "state": {
            "_model_module": "@jupyter-widgets/base",
            "_model_module_version": "1.2.0",
            "_model_name": "LayoutModel",
            "_view_count": null,
            "_view_module": "@jupyter-widgets/base",
            "_view_module_version": "1.2.0",
            "_view_name": "LayoutView",
            "align_content": null,
            "align_items": null,
            "align_self": null,
            "border": null,
            "bottom": null,
            "display": null,
            "flex": null,
            "flex_flow": null,
            "grid_area": null,
            "grid_auto_columns": null,
            "grid_auto_flow": null,
            "grid_auto_rows": null,
            "grid_column": null,
            "grid_gap": null,
            "grid_row": null,
            "grid_template_areas": null,
            "grid_template_columns": null,
            "grid_template_rows": null,
            "height": null,
            "justify_content": null,
            "justify_items": null,
            "left": null,
            "margin": null,
            "max_height": null,
            "max_width": null,
            "min_height": null,
            "min_width": null,
            "object_fit": null,
            "object_position": null,
            "order": null,
            "overflow": null,
            "overflow_x": null,
            "overflow_y": null,
            "padding": null,
            "right": null,
            "top": null,
            "visibility": null,
            "width": null
          }
        },
        "8718d67010df4b5292ea7785ac214394": {
          "model_module": "@jupyter-widgets/base",
          "model_name": "LayoutModel",
          "model_module_version": "1.2.0",
          "state": {
            "_model_module": "@jupyter-widgets/base",
            "_model_module_version": "1.2.0",
            "_model_name": "LayoutModel",
            "_view_count": null,
            "_view_module": "@jupyter-widgets/base",
            "_view_module_version": "1.2.0",
            "_view_name": "LayoutView",
            "align_content": null,
            "align_items": null,
            "align_self": null,
            "border": null,
            "bottom": null,
            "display": null,
            "flex": null,
            "flex_flow": null,
            "grid_area": null,
            "grid_auto_columns": null,
            "grid_auto_flow": null,
            "grid_auto_rows": null,
            "grid_column": null,
            "grid_gap": null,
            "grid_row": null,
            "grid_template_areas": null,
            "grid_template_columns": null,
            "grid_template_rows": null,
            "height": null,
            "justify_content": null,
            "justify_items": null,
            "left": null,
            "margin": null,
            "max_height": null,
            "max_width": null,
            "min_height": null,
            "min_width": null,
            "object_fit": null,
            "object_position": null,
            "order": null,
            "overflow": null,
            "overflow_x": null,
            "overflow_y": null,
            "padding": null,
            "right": null,
            "top": null,
            "visibility": null,
            "width": null
          }
        },
        "391d11c110a444ffb4c6a0f91ffec39f": {
          "model_module": "@jupyter-widgets/controls",
          "model_name": "DescriptionStyleModel",
          "model_module_version": "1.5.0",
          "state": {
            "_model_module": "@jupyter-widgets/controls",
            "_model_module_version": "1.5.0",
            "_model_name": "DescriptionStyleModel",
            "_view_count": null,
            "_view_module": "@jupyter-widgets/base",
            "_view_module_version": "1.2.0",
            "_view_name": "StyleView",
            "description_width": ""
          }
        },
        "90222a0180c949a8a2750d7a875c8f58": {
          "model_module": "@jupyter-widgets/base",
          "model_name": "LayoutModel",
          "model_module_version": "1.2.0",
          "state": {
            "_model_module": "@jupyter-widgets/base",
            "_model_module_version": "1.2.0",
            "_model_name": "LayoutModel",
            "_view_count": null,
            "_view_module": "@jupyter-widgets/base",
            "_view_module_version": "1.2.0",
            "_view_name": "LayoutView",
            "align_content": null,
            "align_items": null,
            "align_self": null,
            "border": null,
            "bottom": null,
            "display": null,
            "flex": null,
            "flex_flow": null,
            "grid_area": null,
            "grid_auto_columns": null,
            "grid_auto_flow": null,
            "grid_auto_rows": null,
            "grid_column": null,
            "grid_gap": null,
            "grid_row": null,
            "grid_template_areas": null,
            "grid_template_columns": null,
            "grid_template_rows": null,
            "height": null,
            "justify_content": null,
            "justify_items": null,
            "left": null,
            "margin": null,
            "max_height": null,
            "max_width": null,
            "min_height": null,
            "min_width": null,
            "object_fit": null,
            "object_position": null,
            "order": null,
            "overflow": null,
            "overflow_x": null,
            "overflow_y": null,
            "padding": null,
            "right": null,
            "top": null,
            "visibility": null,
            "width": null
          }
        },
        "95a58f3c859c413fa880266b27619335": {
          "model_module": "@jupyter-widgets/controls",
          "model_name": "ProgressStyleModel",
          "model_module_version": "1.5.0",
          "state": {
            "_model_module": "@jupyter-widgets/controls",
            "_model_module_version": "1.5.0",
            "_model_name": "ProgressStyleModel",
            "_view_count": null,
            "_view_module": "@jupyter-widgets/base",
            "_view_module_version": "1.2.0",
            "_view_name": "StyleView",
            "bar_color": null,
            "description_width": ""
          }
        },
        "95129980bbe844bf8c28400a5a694b8c": {
          "model_module": "@jupyter-widgets/base",
          "model_name": "LayoutModel",
          "model_module_version": "1.2.0",
          "state": {
            "_model_module": "@jupyter-widgets/base",
            "_model_module_version": "1.2.0",
            "_model_name": "LayoutModel",
            "_view_count": null,
            "_view_module": "@jupyter-widgets/base",
            "_view_module_version": "1.2.0",
            "_view_name": "LayoutView",
            "align_content": null,
            "align_items": null,
            "align_self": null,
            "border": null,
            "bottom": null,
            "display": null,
            "flex": null,
            "flex_flow": null,
            "grid_area": null,
            "grid_auto_columns": null,
            "grid_auto_flow": null,
            "grid_auto_rows": null,
            "grid_column": null,
            "grid_gap": null,
            "grid_row": null,
            "grid_template_areas": null,
            "grid_template_columns": null,
            "grid_template_rows": null,
            "height": null,
            "justify_content": null,
            "justify_items": null,
            "left": null,
            "margin": null,
            "max_height": null,
            "max_width": null,
            "min_height": null,
            "min_width": null,
            "object_fit": null,
            "object_position": null,
            "order": null,
            "overflow": null,
            "overflow_x": null,
            "overflow_y": null,
            "padding": null,
            "right": null,
            "top": null,
            "visibility": null,
            "width": null
          }
        },
        "8b3243fcb0e54bb680e10eb38cb874fb": {
          "model_module": "@jupyter-widgets/controls",
          "model_name": "DescriptionStyleModel",
          "model_module_version": "1.5.0",
          "state": {
            "_model_module": "@jupyter-widgets/controls",
            "_model_module_version": "1.5.0",
            "_model_name": "DescriptionStyleModel",
            "_view_count": null,
            "_view_module": "@jupyter-widgets/base",
            "_view_module_version": "1.2.0",
            "_view_name": "StyleView",
            "description_width": ""
          }
        },
        "b805030bebc34e7aa94c16cff75a8350": {
          "model_module": "@jupyter-widgets/controls",
          "model_name": "HBoxModel",
          "model_module_version": "1.5.0",
          "state": {
            "_dom_classes": [],
            "_model_module": "@jupyter-widgets/controls",
            "_model_module_version": "1.5.0",
            "_model_name": "HBoxModel",
            "_view_count": null,
            "_view_module": "@jupyter-widgets/controls",
            "_view_module_version": "1.5.0",
            "_view_name": "HBoxView",
            "box_style": "",
            "children": [
              "IPY_MODEL_0519434209bf47739eb5ced3cca89fa5",
              "IPY_MODEL_6b359b4411d9419ea36c654d34662c59",
              "IPY_MODEL_86fec2c6f3664f36bc6c97049e956f46"
            ],
            "layout": "IPY_MODEL_a59006b6fd234a2d8b88f3df1b895796"
          }
        },
        "0519434209bf47739eb5ced3cca89fa5": {
          "model_module": "@jupyter-widgets/controls",
          "model_name": "HTMLModel",
          "model_module_version": "1.5.0",
          "state": {
            "_dom_classes": [],
            "_model_module": "@jupyter-widgets/controls",
            "_model_module_version": "1.5.0",
            "_model_name": "HTMLModel",
            "_view_count": null,
            "_view_module": "@jupyter-widgets/controls",
            "_view_module_version": "1.5.0",
            "_view_name": "HTMLView",
            "description": "",
            "description_tooltip": null,
            "layout": "IPY_MODEL_a903feecfc2d4e04b016e679c73a663b",
            "placeholder": "​",
            "style": "IPY_MODEL_82d2c8d8fc2c4043ad8445cc48fc438c",
            "value": "Downloading merges.txt: 100%"
          }
        },
        "6b359b4411d9419ea36c654d34662c59": {
          "model_module": "@jupyter-widgets/controls",
          "model_name": "FloatProgressModel",
          "model_module_version": "1.5.0",
          "state": {
            "_dom_classes": [],
            "_model_module": "@jupyter-widgets/controls",
            "_model_module_version": "1.5.0",
            "_model_name": "FloatProgressModel",
            "_view_count": null,
            "_view_module": "@jupyter-widgets/controls",
            "_view_module_version": "1.5.0",
            "_view_name": "ProgressView",
            "bar_style": "success",
            "description": "",
            "description_tooltip": null,
            "layout": "IPY_MODEL_07975513fcb44eb28fbba72ee6202739",
            "max": 456318,
            "min": 0,
            "orientation": "horizontal",
            "style": "IPY_MODEL_41d64974b93a413492b864819da55a54",
            "value": 456318
          }
        },
        "86fec2c6f3664f36bc6c97049e956f46": {
          "model_module": "@jupyter-widgets/controls",
          "model_name": "HTMLModel",
          "model_module_version": "1.5.0",
          "state": {
            "_dom_classes": [],
            "_model_module": "@jupyter-widgets/controls",
            "_model_module_version": "1.5.0",
            "_model_name": "HTMLModel",
            "_view_count": null,
            "_view_module": "@jupyter-widgets/controls",
            "_view_module_version": "1.5.0",
            "_view_name": "HTMLView",
            "description": "",
            "description_tooltip": null,
            "layout": "IPY_MODEL_a575fe5e6fbf49d981633ffe8cc8c09f",
            "placeholder": "​",
            "style": "IPY_MODEL_69f39b1eb5114e2fbbab782eab2b3cbe",
            "value": " 446k/446k [00:00&lt;00:00, 949kB/s]"
          }
        },
        "a59006b6fd234a2d8b88f3df1b895796": {
          "model_module": "@jupyter-widgets/base",
          "model_name": "LayoutModel",
          "model_module_version": "1.2.0",
          "state": {
            "_model_module": "@jupyter-widgets/base",
            "_model_module_version": "1.2.0",
            "_model_name": "LayoutModel",
            "_view_count": null,
            "_view_module": "@jupyter-widgets/base",
            "_view_module_version": "1.2.0",
            "_view_name": "LayoutView",
            "align_content": null,
            "align_items": null,
            "align_self": null,
            "border": null,
            "bottom": null,
            "display": null,
            "flex": null,
            "flex_flow": null,
            "grid_area": null,
            "grid_auto_columns": null,
            "grid_auto_flow": null,
            "grid_auto_rows": null,
            "grid_column": null,
            "grid_gap": null,
            "grid_row": null,
            "grid_template_areas": null,
            "grid_template_columns": null,
            "grid_template_rows": null,
            "height": null,
            "justify_content": null,
            "justify_items": null,
            "left": null,
            "margin": null,
            "max_height": null,
            "max_width": null,
            "min_height": null,
            "min_width": null,
            "object_fit": null,
            "object_position": null,
            "order": null,
            "overflow": null,
            "overflow_x": null,
            "overflow_y": null,
            "padding": null,
            "right": null,
            "top": null,
            "visibility": null,
            "width": null
          }
        },
        "a903feecfc2d4e04b016e679c73a663b": {
          "model_module": "@jupyter-widgets/base",
          "model_name": "LayoutModel",
          "model_module_version": "1.2.0",
          "state": {
            "_model_module": "@jupyter-widgets/base",
            "_model_module_version": "1.2.0",
            "_model_name": "LayoutModel",
            "_view_count": null,
            "_view_module": "@jupyter-widgets/base",
            "_view_module_version": "1.2.0",
            "_view_name": "LayoutView",
            "align_content": null,
            "align_items": null,
            "align_self": null,
            "border": null,
            "bottom": null,
            "display": null,
            "flex": null,
            "flex_flow": null,
            "grid_area": null,
            "grid_auto_columns": null,
            "grid_auto_flow": null,
            "grid_auto_rows": null,
            "grid_column": null,
            "grid_gap": null,
            "grid_row": null,
            "grid_template_areas": null,
            "grid_template_columns": null,
            "grid_template_rows": null,
            "height": null,
            "justify_content": null,
            "justify_items": null,
            "left": null,
            "margin": null,
            "max_height": null,
            "max_width": null,
            "min_height": null,
            "min_width": null,
            "object_fit": null,
            "object_position": null,
            "order": null,
            "overflow": null,
            "overflow_x": null,
            "overflow_y": null,
            "padding": null,
            "right": null,
            "top": null,
            "visibility": null,
            "width": null
          }
        },
        "82d2c8d8fc2c4043ad8445cc48fc438c": {
          "model_module": "@jupyter-widgets/controls",
          "model_name": "DescriptionStyleModel",
          "model_module_version": "1.5.0",
          "state": {
            "_model_module": "@jupyter-widgets/controls",
            "_model_module_version": "1.5.0",
            "_model_name": "DescriptionStyleModel",
            "_view_count": null,
            "_view_module": "@jupyter-widgets/base",
            "_view_module_version": "1.2.0",
            "_view_name": "StyleView",
            "description_width": ""
          }
        },
        "07975513fcb44eb28fbba72ee6202739": {
          "model_module": "@jupyter-widgets/base",
          "model_name": "LayoutModel",
          "model_module_version": "1.2.0",
          "state": {
            "_model_module": "@jupyter-widgets/base",
            "_model_module_version": "1.2.0",
            "_model_name": "LayoutModel",
            "_view_count": null,
            "_view_module": "@jupyter-widgets/base",
            "_view_module_version": "1.2.0",
            "_view_name": "LayoutView",
            "align_content": null,
            "align_items": null,
            "align_self": null,
            "border": null,
            "bottom": null,
            "display": null,
            "flex": null,
            "flex_flow": null,
            "grid_area": null,
            "grid_auto_columns": null,
            "grid_auto_flow": null,
            "grid_auto_rows": null,
            "grid_column": null,
            "grid_gap": null,
            "grid_row": null,
            "grid_template_areas": null,
            "grid_template_columns": null,
            "grid_template_rows": null,
            "height": null,
            "justify_content": null,
            "justify_items": null,
            "left": null,
            "margin": null,
            "max_height": null,
            "max_width": null,
            "min_height": null,
            "min_width": null,
            "object_fit": null,
            "object_position": null,
            "order": null,
            "overflow": null,
            "overflow_x": null,
            "overflow_y": null,
            "padding": null,
            "right": null,
            "top": null,
            "visibility": null,
            "width": null
          }
        },
        "41d64974b93a413492b864819da55a54": {
          "model_module": "@jupyter-widgets/controls",
          "model_name": "ProgressStyleModel",
          "model_module_version": "1.5.0",
          "state": {
            "_model_module": "@jupyter-widgets/controls",
            "_model_module_version": "1.5.0",
            "_model_name": "ProgressStyleModel",
            "_view_count": null,
            "_view_module": "@jupyter-widgets/base",
            "_view_module_version": "1.2.0",
            "_view_name": "StyleView",
            "bar_color": null,
            "description_width": ""
          }
        },
        "a575fe5e6fbf49d981633ffe8cc8c09f": {
          "model_module": "@jupyter-widgets/base",
          "model_name": "LayoutModel",
          "model_module_version": "1.2.0",
          "state": {
            "_model_module": "@jupyter-widgets/base",
            "_model_module_version": "1.2.0",
            "_model_name": "LayoutModel",
            "_view_count": null,
            "_view_module": "@jupyter-widgets/base",
            "_view_module_version": "1.2.0",
            "_view_name": "LayoutView",
            "align_content": null,
            "align_items": null,
            "align_self": null,
            "border": null,
            "bottom": null,
            "display": null,
            "flex": null,
            "flex_flow": null,
            "grid_area": null,
            "grid_auto_columns": null,
            "grid_auto_flow": null,
            "grid_auto_rows": null,
            "grid_column": null,
            "grid_gap": null,
            "grid_row": null,
            "grid_template_areas": null,
            "grid_template_columns": null,
            "grid_template_rows": null,
            "height": null,
            "justify_content": null,
            "justify_items": null,
            "left": null,
            "margin": null,
            "max_height": null,
            "max_width": null,
            "min_height": null,
            "min_width": null,
            "object_fit": null,
            "object_position": null,
            "order": null,
            "overflow": null,
            "overflow_x": null,
            "overflow_y": null,
            "padding": null,
            "right": null,
            "top": null,
            "visibility": null,
            "width": null
          }
        },
        "69f39b1eb5114e2fbbab782eab2b3cbe": {
          "model_module": "@jupyter-widgets/controls",
          "model_name": "DescriptionStyleModel",
          "model_module_version": "1.5.0",
          "state": {
            "_model_module": "@jupyter-widgets/controls",
            "_model_module_version": "1.5.0",
            "_model_name": "DescriptionStyleModel",
            "_view_count": null,
            "_view_module": "@jupyter-widgets/base",
            "_view_module_version": "1.2.0",
            "_view_name": "StyleView",
            "description_width": ""
          }
        },
        "4b9b5e0c00db4889909ec8309de29238": {
          "model_module": "@jupyter-widgets/controls",
          "model_name": "HBoxModel",
          "model_module_version": "1.5.0",
          "state": {
            "_dom_classes": [],
            "_model_module": "@jupyter-widgets/controls",
            "_model_module_version": "1.5.0",
            "_model_name": "HBoxModel",
            "_view_count": null,
            "_view_module": "@jupyter-widgets/controls",
            "_view_module_version": "1.5.0",
            "_view_name": "HBoxView",
            "box_style": "",
            "children": [
              "IPY_MODEL_4d433197a0624cbba139e47c3dfa07dc",
              "IPY_MODEL_29b601f50f2b44b0af70bd01008f91c7",
              "IPY_MODEL_67fafe28efb64c3593534732a2f7e317"
            ],
            "layout": "IPY_MODEL_66c67d08595e408792e52a7b99150e95"
          }
        },
        "4d433197a0624cbba139e47c3dfa07dc": {
          "model_module": "@jupyter-widgets/controls",
          "model_name": "HTMLModel",
          "model_module_version": "1.5.0",
          "state": {
            "_dom_classes": [],
            "_model_module": "@jupyter-widgets/controls",
            "_model_module_version": "1.5.0",
            "_model_name": "HTMLModel",
            "_view_count": null,
            "_view_module": "@jupyter-widgets/controls",
            "_view_module_version": "1.5.0",
            "_view_name": "HTMLView",
            "description": "",
            "description_tooltip": null,
            "layout": "IPY_MODEL_1f85297ddc784ec3b00ad34b3c8b89b8",
            "placeholder": "​",
            "style": "IPY_MODEL_4e46376f29b84e3fbaeacbc1f7f36ce3",
            "value": "Downloading special_tokens_map.json: 100%"
          }
        },
        "29b601f50f2b44b0af70bd01008f91c7": {
          "model_module": "@jupyter-widgets/controls",
          "model_name": "FloatProgressModel",
          "model_module_version": "1.5.0",
          "state": {
            "_dom_classes": [],
            "_model_module": "@jupyter-widgets/controls",
            "_model_module_version": "1.5.0",
            "_model_name": "FloatProgressModel",
            "_view_count": null,
            "_view_module": "@jupyter-widgets/controls",
            "_view_module_version": "1.5.0",
            "_view_name": "ProgressView",
            "bar_style": "success",
            "description": "",
            "description_tooltip": null,
            "layout": "IPY_MODEL_378c92d58be04b4686875ba489baa5ca",
            "max": 772,
            "min": 0,
            "orientation": "horizontal",
            "style": "IPY_MODEL_9a6872ac7f294deb8745df51d785d72b",
            "value": 772
          }
        },
        "67fafe28efb64c3593534732a2f7e317": {
          "model_module": "@jupyter-widgets/controls",
          "model_name": "HTMLModel",
          "model_module_version": "1.5.0",
          "state": {
            "_dom_classes": [],
            "_model_module": "@jupyter-widgets/controls",
            "_model_module_version": "1.5.0",
            "_model_name": "HTMLModel",
            "_view_count": null,
            "_view_module": "@jupyter-widgets/controls",
            "_view_module_version": "1.5.0",
            "_view_name": "HTMLView",
            "description": "",
            "description_tooltip": null,
            "layout": "IPY_MODEL_e62eda2bbf7e43d8b4377c8eb8e2cb0a",
            "placeholder": "​",
            "style": "IPY_MODEL_5e4dec33650d4548bbf17886cead2c7e",
            "value": " 772/772 [00:00&lt;00:00, 25.8kB/s]"
          }
        },
        "66c67d08595e408792e52a7b99150e95": {
          "model_module": "@jupyter-widgets/base",
          "model_name": "LayoutModel",
          "model_module_version": "1.2.0",
          "state": {
            "_model_module": "@jupyter-widgets/base",
            "_model_module_version": "1.2.0",
            "_model_name": "LayoutModel",
            "_view_count": null,
            "_view_module": "@jupyter-widgets/base",
            "_view_module_version": "1.2.0",
            "_view_name": "LayoutView",
            "align_content": null,
            "align_items": null,
            "align_self": null,
            "border": null,
            "bottom": null,
            "display": null,
            "flex": null,
            "flex_flow": null,
            "grid_area": null,
            "grid_auto_columns": null,
            "grid_auto_flow": null,
            "grid_auto_rows": null,
            "grid_column": null,
            "grid_gap": null,
            "grid_row": null,
            "grid_template_areas": null,
            "grid_template_columns": null,
            "grid_template_rows": null,
            "height": null,
            "justify_content": null,
            "justify_items": null,
            "left": null,
            "margin": null,
            "max_height": null,
            "max_width": null,
            "min_height": null,
            "min_width": null,
            "object_fit": null,
            "object_position": null,
            "order": null,
            "overflow": null,
            "overflow_x": null,
            "overflow_y": null,
            "padding": null,
            "right": null,
            "top": null,
            "visibility": null,
            "width": null
          }
        },
        "1f85297ddc784ec3b00ad34b3c8b89b8": {
          "model_module": "@jupyter-widgets/base",
          "model_name": "LayoutModel",
          "model_module_version": "1.2.0",
          "state": {
            "_model_module": "@jupyter-widgets/base",
            "_model_module_version": "1.2.0",
            "_model_name": "LayoutModel",
            "_view_count": null,
            "_view_module": "@jupyter-widgets/base",
            "_view_module_version": "1.2.0",
            "_view_name": "LayoutView",
            "align_content": null,
            "align_items": null,
            "align_self": null,
            "border": null,
            "bottom": null,
            "display": null,
            "flex": null,
            "flex_flow": null,
            "grid_area": null,
            "grid_auto_columns": null,
            "grid_auto_flow": null,
            "grid_auto_rows": null,
            "grid_column": null,
            "grid_gap": null,
            "grid_row": null,
            "grid_template_areas": null,
            "grid_template_columns": null,
            "grid_template_rows": null,
            "height": null,
            "justify_content": null,
            "justify_items": null,
            "left": null,
            "margin": null,
            "max_height": null,
            "max_width": null,
            "min_height": null,
            "min_width": null,
            "object_fit": null,
            "object_position": null,
            "order": null,
            "overflow": null,
            "overflow_x": null,
            "overflow_y": null,
            "padding": null,
            "right": null,
            "top": null,
            "visibility": null,
            "width": null
          }
        },
        "4e46376f29b84e3fbaeacbc1f7f36ce3": {
          "model_module": "@jupyter-widgets/controls",
          "model_name": "DescriptionStyleModel",
          "model_module_version": "1.5.0",
          "state": {
            "_model_module": "@jupyter-widgets/controls",
            "_model_module_version": "1.5.0",
            "_model_name": "DescriptionStyleModel",
            "_view_count": null,
            "_view_module": "@jupyter-widgets/base",
            "_view_module_version": "1.2.0",
            "_view_name": "StyleView",
            "description_width": ""
          }
        },
        "378c92d58be04b4686875ba489baa5ca": {
          "model_module": "@jupyter-widgets/base",
          "model_name": "LayoutModel",
          "model_module_version": "1.2.0",
          "state": {
            "_model_module": "@jupyter-widgets/base",
            "_model_module_version": "1.2.0",
            "_model_name": "LayoutModel",
            "_view_count": null,
            "_view_module": "@jupyter-widgets/base",
            "_view_module_version": "1.2.0",
            "_view_name": "LayoutView",
            "align_content": null,
            "align_items": null,
            "align_self": null,
            "border": null,
            "bottom": null,
            "display": null,
            "flex": null,
            "flex_flow": null,
            "grid_area": null,
            "grid_auto_columns": null,
            "grid_auto_flow": null,
            "grid_auto_rows": null,
            "grid_column": null,
            "grid_gap": null,
            "grid_row": null,
            "grid_template_areas": null,
            "grid_template_columns": null,
            "grid_template_rows": null,
            "height": null,
            "justify_content": null,
            "justify_items": null,
            "left": null,
            "margin": null,
            "max_height": null,
            "max_width": null,
            "min_height": null,
            "min_width": null,
            "object_fit": null,
            "object_position": null,
            "order": null,
            "overflow": null,
            "overflow_x": null,
            "overflow_y": null,
            "padding": null,
            "right": null,
            "top": null,
            "visibility": null,
            "width": null
          }
        },
        "9a6872ac7f294deb8745df51d785d72b": {
          "model_module": "@jupyter-widgets/controls",
          "model_name": "ProgressStyleModel",
          "model_module_version": "1.5.0",
          "state": {
            "_model_module": "@jupyter-widgets/controls",
            "_model_module_version": "1.5.0",
            "_model_name": "ProgressStyleModel",
            "_view_count": null,
            "_view_module": "@jupyter-widgets/base",
            "_view_module_version": "1.2.0",
            "_view_name": "StyleView",
            "bar_color": null,
            "description_width": ""
          }
        },
        "e62eda2bbf7e43d8b4377c8eb8e2cb0a": {
          "model_module": "@jupyter-widgets/base",
          "model_name": "LayoutModel",
          "model_module_version": "1.2.0",
          "state": {
            "_model_module": "@jupyter-widgets/base",
            "_model_module_version": "1.2.0",
            "_model_name": "LayoutModel",
            "_view_count": null,
            "_view_module": "@jupyter-widgets/base",
            "_view_module_version": "1.2.0",
            "_view_name": "LayoutView",
            "align_content": null,
            "align_items": null,
            "align_self": null,
            "border": null,
            "bottom": null,
            "display": null,
            "flex": null,
            "flex_flow": null,
            "grid_area": null,
            "grid_auto_columns": null,
            "grid_auto_flow": null,
            "grid_auto_rows": null,
            "grid_column": null,
            "grid_gap": null,
            "grid_row": null,
            "grid_template_areas": null,
            "grid_template_columns": null,
            "grid_template_rows": null,
            "height": null,
            "justify_content": null,
            "justify_items": null,
            "left": null,
            "margin": null,
            "max_height": null,
            "max_width": null,
            "min_height": null,
            "min_width": null,
            "object_fit": null,
            "object_position": null,
            "order": null,
            "overflow": null,
            "overflow_x": null,
            "overflow_y": null,
            "padding": null,
            "right": null,
            "top": null,
            "visibility": null,
            "width": null
          }
        },
        "5e4dec33650d4548bbf17886cead2c7e": {
          "model_module": "@jupyter-widgets/controls",
          "model_name": "DescriptionStyleModel",
          "model_module_version": "1.5.0",
          "state": {
            "_model_module": "@jupyter-widgets/controls",
            "_model_module_version": "1.5.0",
            "_model_name": "DescriptionStyleModel",
            "_view_count": null,
            "_view_module": "@jupyter-widgets/base",
            "_view_module_version": "1.2.0",
            "_view_name": "StyleView",
            "description_width": ""
          }
        }
      }
    },
    "accelerator": "GPU",
    "gpuClass": "standard"
  },
  "cells": [
    {
      "cell_type": "code",
      "execution_count": null,
      "metadata": {
        "colab": {
          "base_uri": "https://localhost:8080/"
        },
        "id": "lHDIOyZJ4jzk",
        "outputId": "14dc7c7a-e24d-4437-a657-9a139bd60bd1"
      },
      "outputs": [
        {
          "output_type": "stream",
          "name": "stdout",
          "text": [
            "Mounted at /content/drive\n"
          ]
        }
      ],
      "source": [
        "from google.colab import drive\n",
        "drive.mount('/content/drive')"
      ]
    },
    {
      "cell_type": "code",
      "source": [
        "%%bash\n",
        "\n",
        "pip install --upgrade pip\n",
        "pip install git+https://github.com/deepset-ai/haystack.git#egg=farm-haystack[colab]"
      ],
      "metadata": {
        "colab": {
          "base_uri": "https://localhost:8080/"
        },
        "id": "bVuI6S3c4pg_",
        "outputId": "a9b3712d-9322-4f4b-b45f-f3ab474d680f"
      },
      "execution_count": null,
      "outputs": [
        {
          "output_type": "stream",
          "name": "stdout",
          "text": [
            "Looking in indexes: https://pypi.org/simple, https://us-python.pkg.dev/colab-wheels/public/simple/\n",
            "Requirement already satisfied: pip in /usr/local/lib/python3.7/dist-packages (21.1.3)\n",
            "Collecting pip\n",
            "  Downloading pip-22.3.1-py3-none-any.whl (2.1 MB)\n",
            "Installing collected packages: pip\n",
            "  Attempting uninstall: pip\n",
            "    Found existing installation: pip 21.1.3\n",
            "    Uninstalling pip-21.1.3:\n",
            "      Successfully uninstalled pip-21.1.3\n",
            "Successfully installed pip-22.3.1\n",
            "Looking in indexes: https://pypi.org/simple, https://us-python.pkg.dev/colab-wheels/public/simple/\n",
            "Collecting farm-haystack[colab]\n",
            "  Cloning https://github.com/deepset-ai/haystack.git to /tmp/pip-install-w6p5q43m/farm-haystack_e3defedff90e421ab22221c190a015a0\n",
            "  Resolved https://github.com/deepset-ai/haystack.git to commit c7e3483f62d4c8dce15d71d032fa49c8deba39a8\n",
            "  Installing build dependencies: started\n",
            "  Installing build dependencies: finished with status 'done'\n",
            "  Getting requirements to build wheel: started\n",
            "  Getting requirements to build wheel: finished with status 'done'\n",
            "  Preparing metadata (pyproject.toml): started\n",
            "  Preparing metadata (pyproject.toml): finished with status 'done'\n",
            "Requirement already satisfied: transformers==4.21.2 in /usr/local/lib/python3.7/dist-packages (from farm-haystack[colab]) (4.21.2)\n",
            "Requirement already satisfied: elasticsearch<8,>=7.7 in /usr/local/lib/python3.7/dist-packages (from farm-haystack[colab]) (7.17.7)\n",
            "Requirement already satisfied: torch<1.13,>1.9 in /usr/local/lib/python3.7/dist-packages (from farm-haystack[colab]) (1.12.1+cu113)\n",
            "Requirement already satisfied: rapidfuzz<2.8.0,>=2.0.15 in /usr/local/lib/python3.7/dist-packages (from farm-haystack[colab]) (2.7.0)\n",
            "Requirement already satisfied: nltk in /usr/local/lib/python3.7/dist-packages (from farm-haystack[colab]) (3.7)\n",
            "Requirement already satisfied: huggingface-hub>=0.5.0 in /usr/local/lib/python3.7/dist-packages (from farm-haystack[colab]) (0.11.0)\n",
            "Requirement already satisfied: jsonschema in /usr/local/lib/python3.7/dist-packages (from farm-haystack[colab]) (4.3.3)\n",
            "Requirement already satisfied: posthog in /usr/local/lib/python3.7/dist-packages (from farm-haystack[colab]) (2.2.0)\n",
            "Requirement already satisfied: tika in /usr/local/lib/python3.7/dist-packages (from farm-haystack[colab]) (1.24)\n",
            "Requirement already satisfied: langdetect in /usr/local/lib/python3.7/dist-packages (from farm-haystack[colab]) (1.0.9)\n",
            "Requirement already satisfied: mmh3 in /usr/local/lib/python3.7/dist-packages (from farm-haystack[colab]) (3.0.0)\n",
            "Requirement already satisfied: pandas in /usr/local/lib/python3.7/dist-packages (from farm-haystack[colab]) (1.3.5)\n",
            "Requirement already satisfied: networkx in /usr/local/lib/python3.7/dist-packages (from farm-haystack[colab]) (2.6.3)\n",
            "Requirement already satisfied: mlflow in /usr/local/lib/python3.7/dist-packages (from farm-haystack[colab]) (1.30.0)\n",
            "Requirement already satisfied: more-itertools in /usr/local/lib/python3.7/dist-packages (from farm-haystack[colab]) (9.0.0)\n",
            "Requirement already satisfied: python-docx in /usr/local/lib/python3.7/dist-packages (from farm-haystack[colab]) (0.8.11)\n",
            "Requirement already satisfied: seqeval in /usr/local/lib/python3.7/dist-packages (from farm-haystack[colab]) (1.2.2)\n",
            "Requirement already satisfied: scikit-learn>=1.0.0 in /usr/local/lib/python3.7/dist-packages (from farm-haystack[colab]) (1.0.2)\n",
            "Requirement already satisfied: scipy>=1.3.2 in /usr/local/lib/python3.7/dist-packages (from farm-haystack[colab]) (1.7.3)\n",
            "Requirement already satisfied: tqdm in /usr/local/lib/python3.7/dist-packages (from farm-haystack[colab]) (4.64.1)\n",
            "Requirement already satisfied: dill in /usr/local/lib/python3.7/dist-packages (from farm-haystack[colab]) (0.3.6)\n",
            "Requirement already satisfied: importlib-metadata in /usr/local/lib/python3.7/dist-packages (from farm-haystack[colab]) (4.13.0)\n",
            "Requirement already satisfied: quantulum3 in /usr/local/lib/python3.7/dist-packages (from farm-haystack[colab]) (0.7.11)\n",
            "Requirement already satisfied: pydantic in /usr/local/lib/python3.7/dist-packages (from farm-haystack[colab]) (1.10.2)\n",
            "Requirement already satisfied: sentence-transformers>=2.2.0 in /usr/local/lib/python3.7/dist-packages (from farm-haystack[colab]) (2.2.2)\n",
            "Requirement already satisfied: azure-ai-formrecognizer>=3.2.0b2 in /usr/local/lib/python3.7/dist-packages (from farm-haystack[colab]) (3.2.0)\n",
            "Requirement already satisfied: requests in /usr/local/lib/python3.7/dist-packages (from farm-haystack[colab]) (2.23.0)\n",
            "Collecting grpcio==1.47.0\n",
            "  Downloading grpcio-1.47.0-cp37-cp37m-manylinux_2_17_x86_64.manylinux2014_x86_64.whl (4.5 MB)\n",
            "     ━━━━━━━━━━━━━━━━━━━━━━━━━━━━━━━━━━━━━━━━ 4.5/4.5 MB 58.5 MB/s eta 0:00:00\n",
            "Collecting requests\n",
            "  Downloading requests-2.28.1-py3-none-any.whl (62 kB)\n",
            "     ━━━━━━━━━━━━━━━━━━━━━━━━━━━━━━━━━━━━━━━━ 62.8/62.8 kB 7.0 MB/s eta 0:00:00\n",
            "Requirement already satisfied: six>=1.5.2 in /usr/local/lib/python3.7/dist-packages (from grpcio==1.47.0->farm-haystack[colab]) (1.15.0)\n",
            "Requirement already satisfied: pyyaml>=5.1 in /usr/local/lib/python3.7/dist-packages (from transformers==4.21.2->farm-haystack[colab]) (6.0)\n",
            "Requirement already satisfied: regex!=2019.12.17 in /usr/local/lib/python3.7/dist-packages (from transformers==4.21.2->farm-haystack[colab]) (2022.6.2)\n",
            "Requirement already satisfied: tokenizers!=0.11.3,<0.13,>=0.11.1 in /usr/local/lib/python3.7/dist-packages (from transformers==4.21.2->farm-haystack[colab]) (0.12.1)\n",
            "Requirement already satisfied: filelock in /usr/local/lib/python3.7/dist-packages (from transformers==4.21.2->farm-haystack[colab]) (3.8.0)\n",
            "Requirement already satisfied: numpy>=1.17 in /usr/local/lib/python3.7/dist-packages (from transformers==4.21.2->farm-haystack[colab]) (1.21.6)\n",
            "Requirement already satisfied: packaging>=20.0 in /usr/local/lib/python3.7/dist-packages (from transformers==4.21.2->farm-haystack[colab]) (21.3)\n",
            "Requirement already satisfied: azure-common~=1.1 in /usr/local/lib/python3.7/dist-packages (from azure-ai-formrecognizer>=3.2.0b2->farm-haystack[colab]) (1.1.28)\n",
            "Requirement already satisfied: msrest>=0.6.21 in /usr/local/lib/python3.7/dist-packages (from azure-ai-formrecognizer>=3.2.0b2->farm-haystack[colab]) (0.7.1)\n",
            "Requirement already satisfied: azure-core<2.0.0,>=1.23.0 in /usr/local/lib/python3.7/dist-packages (from azure-ai-formrecognizer>=3.2.0b2->farm-haystack[colab]) (1.26.1)\n",
            "Requirement already satisfied: typing-extensions>=4.0.1 in /usr/local/lib/python3.7/dist-packages (from azure-ai-formrecognizer>=3.2.0b2->farm-haystack[colab]) (4.1.1)\n",
            "Requirement already satisfied: urllib3<2,>=1.21.1 in /usr/local/lib/python3.7/dist-packages (from elasticsearch<8,>=7.7->farm-haystack[colab]) (1.24.3)\n",
            "Requirement already satisfied: certifi in /usr/local/lib/python3.7/dist-packages (from elasticsearch<8,>=7.7->farm-haystack[colab]) (2022.9.24)\n",
            "Requirement already satisfied: jarowinkler<2.0.0,>=1.2.0 in /usr/local/lib/python3.7/dist-packages (from rapidfuzz<2.8.0,>=2.0.15->farm-haystack[colab]) (1.2.3)\n",
            "Requirement already satisfied: charset-normalizer<3,>=2 in /usr/local/lib/python3.7/dist-packages (from requests->farm-haystack[colab]) (2.1.1)\n",
            "Requirement already satisfied: idna<4,>=2.5 in /usr/local/lib/python3.7/dist-packages (from requests->farm-haystack[colab]) (2.10)\n",
            "Requirement already satisfied: joblib>=0.11 in /usr/local/lib/python3.7/dist-packages (from scikit-learn>=1.0.0->farm-haystack[colab]) (1.2.0)\n",
            "Requirement already satisfied: threadpoolctl>=2.0.0 in /usr/local/lib/python3.7/dist-packages (from scikit-learn>=1.0.0->farm-haystack[colab]) (3.1.0)\n",
            "Requirement already satisfied: torchvision in /usr/local/lib/python3.7/dist-packages (from sentence-transformers>=2.2.0->farm-haystack[colab]) (0.13.1+cu113)\n",
            "Requirement already satisfied: sentencepiece in /usr/local/lib/python3.7/dist-packages (from sentence-transformers>=2.2.0->farm-haystack[colab]) (0.1.97)\n",
            "Requirement already satisfied: zipp>=0.5 in /usr/local/lib/python3.7/dist-packages (from importlib-metadata->farm-haystack[colab]) (3.10.0)\n",
            "Requirement already satisfied: pyrsistent!=0.17.0,!=0.17.1,!=0.17.2,>=0.14.0 in /usr/local/lib/python3.7/dist-packages (from jsonschema->farm-haystack[colab]) (0.19.2)\n",
            "Requirement already satisfied: attrs>=17.4.0 in /usr/local/lib/python3.7/dist-packages (from jsonschema->farm-haystack[colab]) (22.1.0)\n",
            "Requirement already satisfied: importlib-resources>=1.4.0 in /usr/local/lib/python3.7/dist-packages (from jsonschema->farm-haystack[colab]) (5.10.0)\n",
            "Requirement already satisfied: protobuf<5,>=3.12.0 in /usr/local/lib/python3.7/dist-packages (from mlflow->farm-haystack[colab]) (3.19.6)\n",
            "Requirement already satisfied: sqlparse<1,>=0.4.0 in /usr/local/lib/python3.7/dist-packages (from mlflow->farm-haystack[colab]) (0.4.3)\n",
            "Requirement already satisfied: cloudpickle<3 in /usr/local/lib/python3.7/dist-packages (from mlflow->farm-haystack[colab]) (1.5.0)\n",
            "Requirement already satisfied: pytz<2023 in /usr/local/lib/python3.7/dist-packages (from mlflow->farm-haystack[colab]) (2022.6)\n",
            "Requirement already satisfied: prometheus-flask-exporter<1 in /usr/local/lib/python3.7/dist-packages (from mlflow->farm-haystack[colab]) (0.21.0)\n",
            "Requirement already satisfied: querystring-parser<2 in /usr/local/lib/python3.7/dist-packages (from mlflow->farm-haystack[colab]) (1.2.4)\n",
            "Requirement already satisfied: gitpython<4,>=2.1.0 in /usr/local/lib/python3.7/dist-packages (from mlflow->farm-haystack[colab]) (3.1.29)\n",
            "Requirement already satisfied: Flask<3 in /usr/local/lib/python3.7/dist-packages (from mlflow->farm-haystack[colab]) (1.1.4)\n",
            "Requirement already satisfied: docker<7,>=4.0.0 in /usr/local/lib/python3.7/dist-packages (from mlflow->farm-haystack[colab]) (5.0.3)\n",
            "Requirement already satisfied: alembic<2 in /usr/local/lib/python3.7/dist-packages (from mlflow->farm-haystack[colab]) (1.8.1)\n",
            "Requirement already satisfied: entrypoints<1 in /usr/local/lib/python3.7/dist-packages (from mlflow->farm-haystack[colab]) (0.4)\n",
            "Requirement already satisfied: databricks-cli<1,>=0.8.7 in /usr/local/lib/python3.7/dist-packages (from mlflow->farm-haystack[colab]) (0.17.3)\n",
            "Requirement already satisfied: gunicorn<21 in /usr/local/lib/python3.7/dist-packages (from mlflow->farm-haystack[colab]) (20.1.0)\n",
            "Requirement already satisfied: sqlalchemy<2,>=1.4.0 in /usr/local/lib/python3.7/dist-packages (from mlflow->farm-haystack[colab]) (1.4.43)\n",
            "Requirement already satisfied: click<9,>=7.0 in /usr/local/lib/python3.7/dist-packages (from mlflow->farm-haystack[colab]) (7.1.2)\n",
            "Requirement already satisfied: python-dateutil>=2.7.3 in /usr/local/lib/python3.7/dist-packages (from pandas->farm-haystack[colab]) (2.8.2)\n",
            "Requirement already satisfied: monotonic>=1.5 in /usr/local/lib/python3.7/dist-packages (from posthog->farm-haystack[colab]) (1.6)\n",
            "Requirement already satisfied: backoff<2.0.0,>=1.10.0 in /usr/local/lib/python3.7/dist-packages (from posthog->farm-haystack[colab]) (1.11.1)\n",
            "Requirement already satisfied: lxml>=2.3.2 in /usr/local/lib/python3.7/dist-packages (from python-docx->farm-haystack[colab]) (4.9.1)\n",
            "Requirement already satisfied: inflect in /usr/local/lib/python3.7/dist-packages (from quantulum3->farm-haystack[colab]) (2.1.0)\n",
            "Requirement already satisfied: num2words in /usr/local/lib/python3.7/dist-packages (from quantulum3->farm-haystack[colab]) (0.5.12)\n",
            "Requirement already satisfied: setuptools in /usr/local/lib/python3.7/dist-packages (from tika->farm-haystack[colab]) (57.4.0)\n",
            "Requirement already satisfied: Mako in /usr/local/lib/python3.7/dist-packages (from alembic<2->mlflow->farm-haystack[colab]) (1.2.4)\n",
            "Requirement already satisfied: oauthlib>=3.1.0 in /usr/local/lib/python3.7/dist-packages (from databricks-cli<1,>=0.8.7->mlflow->farm-haystack[colab]) (3.2.2)\n",
            "Requirement already satisfied: pyjwt>=1.7.0 in /usr/local/lib/python3.7/dist-packages (from databricks-cli<1,>=0.8.7->mlflow->farm-haystack[colab]) (2.6.0)\n",
            "Requirement already satisfied: tabulate>=0.7.7 in /usr/local/lib/python3.7/dist-packages (from databricks-cli<1,>=0.8.7->mlflow->farm-haystack[colab]) (0.8.10)\n",
            "Requirement already satisfied: websocket-client>=0.32.0 in /usr/local/lib/python3.7/dist-packages (from docker<7,>=4.0.0->mlflow->farm-haystack[colab]) (1.4.2)\n",
            "Requirement already satisfied: Werkzeug<2.0,>=0.15 in /usr/local/lib/python3.7/dist-packages (from Flask<3->mlflow->farm-haystack[colab]) (1.0.1)\n",
            "Requirement already satisfied: itsdangerous<2.0,>=0.24 in /usr/local/lib/python3.7/dist-packages (from Flask<3->mlflow->farm-haystack[colab]) (1.1.0)\n",
            "Requirement already satisfied: Jinja2<3.0,>=2.10.1 in /usr/local/lib/python3.7/dist-packages (from Flask<3->mlflow->farm-haystack[colab]) (2.11.3)\n",
            "Requirement already satisfied: gitdb<5,>=4.0.1 in /usr/local/lib/python3.7/dist-packages (from gitpython<4,>=2.1.0->mlflow->farm-haystack[colab]) (4.0.9)\n",
            "Requirement already satisfied: requests-oauthlib>=0.5.0 in /usr/local/lib/python3.7/dist-packages (from msrest>=0.6.21->azure-ai-formrecognizer>=3.2.0b2->farm-haystack[colab]) (1.3.1)\n",
            "Requirement already satisfied: isodate>=0.6.0 in /usr/local/lib/python3.7/dist-packages (from msrest>=0.6.21->azure-ai-formrecognizer>=3.2.0b2->farm-haystack[colab]) (0.6.1)\n",
            "Requirement already satisfied: pyparsing!=3.0.5,>=2.0.2 in /usr/local/lib/python3.7/dist-packages (from packaging>=20.0->transformers==4.21.2->farm-haystack[colab]) (3.0.9)\n",
            "Requirement already satisfied: prometheus-client in /usr/local/lib/python3.7/dist-packages (from prometheus-flask-exporter<1->mlflow->farm-haystack[colab]) (0.15.0)\n",
            "Requirement already satisfied: greenlet!=0.4.17 in /usr/local/lib/python3.7/dist-packages (from sqlalchemy<2,>=1.4.0->mlflow->farm-haystack[colab]) (2.0.1)\n",
            "Requirement already satisfied: docopt>=0.6.2 in /usr/local/lib/python3.7/dist-packages (from num2words->quantulum3->farm-haystack[colab]) (0.6.2)\n",
            "Requirement already satisfied: pillow!=8.3.*,>=5.3.0 in /usr/local/lib/python3.7/dist-packages (from torchvision->sentence-transformers>=2.2.0->farm-haystack[colab]) (9.3.0)\n",
            "Requirement already satisfied: smmap<6,>=3.0.1 in /usr/local/lib/python3.7/dist-packages (from gitdb<5,>=4.0.1->gitpython<4,>=2.1.0->mlflow->farm-haystack[colab]) (5.0.0)\n",
            "Requirement already satisfied: MarkupSafe>=0.23 in /usr/local/lib/python3.7/dist-packages (from Jinja2<3.0,>=2.10.1->Flask<3->mlflow->farm-haystack[colab]) (2.0.1)\n",
            "Building wheels for collected packages: farm-haystack\n",
            "  Building wheel for farm-haystack (pyproject.toml): started\n",
            "  Building wheel for farm-haystack (pyproject.toml): finished with status 'done'\n",
            "  Created wheel for farm-haystack: filename=farm_haystack-1.12.0rc0-py3-none-any.whl size=588153 sha256=94d19889c7af39a16d47f5e64605e4eec1560ce8fb14233934794eae5f049ffe\n",
            "  Stored in directory: /tmp/pip-ephem-wheel-cache-yojcby74/wheels/a7/05/3b/9b33368d9af06a39f8e6af2e97fa2af876e893ade323cfc2c9\n",
            "Successfully built farm-haystack\n",
            "Installing collected packages: requests, grpcio, farm-haystack\n",
            "  Attempting uninstall: requests\n",
            "    Found existing installation: requests 2.23.0\n",
            "    Uninstalling requests-2.23.0:\n",
            "      Successfully uninstalled requests-2.23.0\n",
            "  Attempting uninstall: grpcio\n",
            "    Found existing installation: grpcio 1.50.0\n",
            "    Uninstalling grpcio-1.50.0:\n",
            "      Successfully uninstalled grpcio-1.50.0\n",
            "  Attempting uninstall: farm-haystack\n",
            "    Found existing installation: farm-haystack 1.10.0\n",
            "    Uninstalling farm-haystack-1.10.0:\n",
            "      Successfully uninstalled farm-haystack-1.10.0\n",
            "Successfully installed farm-haystack-1.12.0rc0 grpcio-1.47.0 requests-2.28.1\n"
          ]
        },
        {
          "output_type": "stream",
          "name": "stderr",
          "text": [
            "  Running command git clone --filter=blob:none --quiet https://github.com/deepset-ai/haystack.git /tmp/pip-install-w6p5q43m/farm-haystack_e3defedff90e421ab22221c190a015a0\n",
            "ERROR: pip's dependency resolver does not currently take into account all the packages that are installed. This behaviour is the source of the following dependency conflicts.\n",
            "grpcio-status 1.48.2 requires grpcio>=1.48.2, but you have grpcio 1.47.0 which is incompatible.\n",
            "WARNING: Running pip as the 'root' user can result in broken permissions and conflicting behaviour with the system package manager. It is recommended to use a virtual environment instead: https://pip.pypa.io/warnings/venv\n"
          ]
        }
      ]
    },
    {
      "cell_type": "markdown",
      "metadata": {
        "collapsed": false,
        "pycharm": {
          "name": "#%% md\n"
        },
        "id": "EMTH9p7N3zqo"
      },
      "source": [
        "## Logging\n",
        "\n",
        "We configure how logging messages should be displayed and which log level should be used before importing Haystack.\n",
        "Example log message:\n",
        "INFO - haystack.utils.preprocessing -  Converting data/tutorial1/218_Olenna_Tyrell.txt\n",
        "Default log level in basicConfig is WARNING so the explicit parameter is not necessary but can be changed easily:"
      ]
    },
    {
      "cell_type": "code",
      "execution_count": null,
      "metadata": {
        "pycharm": {
          "name": "#%%\n"
        },
        "id": "t9QXIbQ43zqo"
      },
      "outputs": [],
      "source": [
        "import logging\n",
        "\n",
        "logging.basicConfig(format=\"%(levelname)s - %(name)s -  %(message)s\", level=logging.WARNING)\n",
        "logging.getLogger(\"haystack\").setLevel(logging.INFO)"
      ]
    },
    {
      "cell_type": "markdown",
      "metadata": {
        "id": "Jp8-EPYD3zqq"
      },
      "source": [
        "## Document Store\n",
        "\n",
        "Haystack finds answers to queries within the documents stored in a `DocumentStore`. The current implementations of `DocumentStore` include `ElasticsearchDocumentStore`, `FAISSDocumentStore`,  `SQLDocumentStore`, and `InMemoryDocumentStore`.\n",
        "\n",
        "**Here:** We recommended Elasticsearch as it comes preloaded with features like [full-text queries](https://www.elastic.co/guide/en/elasticsearch/reference/current/full-text-queries.html), [BM25 retrieval](https://www.elastic.co/elasticon/conf/2016/sf/improved-text-scoring-with-bm25), and [vector storage for text embeddings](https://www.elastic.co/guide/en/elasticsearch/reference/7.6/dense-vector.html).\n",
        "\n",
        "**Alternatives:** If you are unable to setup an Elasticsearch instance, then follow the [Tutorial 3](https://github.com/deepset-ai/haystack-tutorials/blob/main/tutorials/03_Basic_QA_Pipeline_without_Elasticsearch.ipynb) for using SQL/InMemory document stores.\n",
        "\n",
        "**Hint**: This tutorial creates a new document store instance with Wikipedia articles on Game of Thrones. However, you can configure Haystack to work with your existing document stores.\n",
        "\n",
        "### Start an Elasticsearch server locally\n",
        "You can start Elasticsearch on your local machine instance using Docker. If Docker is not readily available in your environment (e.g. in Colab notebooks), then you can manually download and execute Elasticsearch from source."
      ]
    },
    {
      "cell_type": "markdown",
      "metadata": {
        "id": "3DJMIbq43zqs"
      },
      "source": [
        "### Start an Elasticsearch server in Colab\n",
        "\n",
        "If Docker is not readily available in your environment (e.g. in Colab notebooks), then you can manually download and execute Elasticsearch from source."
      ]
    },
    {
      "cell_type": "code",
      "execution_count": null,
      "metadata": {
        "vscode": {
          "languageId": "shellscript"
        },
        "id": "Px8rsV1y3zqt"
      },
      "outputs": [],
      "source": [
        "%%bash\n",
        "\n",
        "wget https://artifacts.elastic.co/downloads/elasticsearch/elasticsearch-7.9.2-linux-x86_64.tar.gz -q\n",
        "tar -xzf elasticsearch-7.9.2-linux-x86_64.tar.gz\n",
        "chown -R daemon:daemon elasticsearch-7.9.2"
      ]
    },
    {
      "cell_type": "code",
      "execution_count": null,
      "metadata": {
        "vscode": {
          "languageId": "shellscript"
        },
        "id": "hqLLObfD3zqu"
      },
      "outputs": [],
      "source": [
        "%%bash --bg\n",
        "\n",
        "sudo -u daemon -- elasticsearch-7.9.2/bin/elasticsearch"
      ]
    },
    {
      "cell_type": "markdown",
      "metadata": {
        "id": "17y-EyO-3zqv"
      },
      "source": [
        "### Create the Document Store\n",
        "\n",
        "The `ElasticsearchDocumentStore` class will try to open a connection in the constructor, here we wait 30 seconds only to be sure Elasticsearch is ready before continuing:"
      ]
    },
    {
      "cell_type": "code",
      "execution_count": null,
      "metadata": {
        "id": "kVHEW9l13zqw"
      },
      "outputs": [],
      "source": [
        "import time\n",
        "time.sleep(30)"
      ]
    },
    {
      "cell_type": "markdown",
      "metadata": {
        "id": "rmhQTI4a3zqx"
      },
      "source": [
        "Finally, we create the Document Store instance:"
      ]
    },
    {
      "cell_type": "code",
      "execution_count": null,
      "metadata": {
        "pycharm": {
          "name": "#%%\n"
        },
        "id": "JlY6t_sq3zqx",
        "colab": {
          "base_uri": "https://localhost:8080/"
        },
        "outputId": "6fa5b2ed-d5ce-448c-e3ba-929a4300bb3c"
      },
      "outputs": [
        {
          "output_type": "stream",
          "name": "stderr",
          "text": [
            "INFO:haystack.telemetry:Haystack sends anonymous usage data to understand the actual usage and steer dev efforts towards features that are most meaningful to users. You can opt-out at anytime by calling disable_telemetry() or by manually setting the environment variable HAYSTACK_TELEMETRY_ENABLED as described for different operating systems on the documentation page. More information at https://haystack.deepset.ai/guides/telemetry\n"
          ]
        }
      ],
      "source": [
        "import os\n",
        "from haystack.document_stores import ElasticsearchDocumentStore\n",
        "\n",
        "# Get the host where Elasticsearch is running, default to localhost\n",
        "host = os.environ.get(\"ELASTICSEARCH_HOST\", \"localhost\")\n",
        "document_store = ElasticsearchDocumentStore(host=host, username=\"\", password=\"\", index=\"document\")"
      ]
    },
    {
      "cell_type": "code",
      "source": [
        "#pip install farm-haystack[ocr]"
      ],
      "metadata": {
        "id": "VPuf4Pye7X-S",
        "colab": {
          "base_uri": "https://localhost:8080/"
        },
        "outputId": "c7dda486-5619-4471-8c29-a6c7a5f08fea"
      },
      "execution_count": null,
      "outputs": [
        {
          "output_type": "stream",
          "name": "stdout",
          "text": [
            "Looking in indexes: https://pypi.org/simple, https://us-python.pkg.dev/colab-wheels/public/simple/\n",
            "Requirement already satisfied: farm-haystack[ocr] in /usr/local/lib/python3.7/dist-packages (1.12.0rc0)\n",
            "Requirement already satisfied: importlib-metadata in /usr/local/lib/python3.7/dist-packages (from farm-haystack[ocr]) (4.13.0)\n",
            "Requirement already satisfied: azure-ai-formrecognizer>=3.2.0b2 in /usr/local/lib/python3.7/dist-packages (from farm-haystack[ocr]) (3.2.0)\n",
            "Requirement already satisfied: sentence-transformers>=2.2.0 in /usr/local/lib/python3.7/dist-packages (from farm-haystack[ocr]) (2.2.2)\n",
            "Requirement already satisfied: huggingface-hub>=0.5.0 in /usr/local/lib/python3.7/dist-packages (from farm-haystack[ocr]) (0.11.0)\n",
            "Requirement already satisfied: requests in /usr/local/lib/python3.7/dist-packages (from farm-haystack[ocr]) (2.28.1)\n",
            "Requirement already satisfied: dill in /usr/local/lib/python3.7/dist-packages (from farm-haystack[ocr]) (0.3.6)\n",
            "Requirement already satisfied: python-docx in /usr/local/lib/python3.7/dist-packages (from farm-haystack[ocr]) (0.8.11)\n",
            "Requirement already satisfied: mlflow in /usr/local/lib/python3.7/dist-packages (from farm-haystack[ocr]) (1.30.0)\n",
            "Requirement already satisfied: tika in /usr/local/lib/python3.7/dist-packages (from farm-haystack[ocr]) (1.24)\n",
            "Requirement already satisfied: nltk in /usr/local/lib/python3.7/dist-packages (from farm-haystack[ocr]) (3.7)\n",
            "Requirement already satisfied: quantulum3 in /usr/local/lib/python3.7/dist-packages (from farm-haystack[ocr]) (0.7.11)\n",
            "Requirement already satisfied: scipy>=1.3.2 in /usr/local/lib/python3.7/dist-packages (from farm-haystack[ocr]) (1.7.3)\n",
            "Requirement already satisfied: torch<1.13,>1.9 in /usr/local/lib/python3.7/dist-packages (from farm-haystack[ocr]) (1.12.1+cu113)\n",
            "Requirement already satisfied: elasticsearch<8,>=7.7 in /usr/local/lib/python3.7/dist-packages (from farm-haystack[ocr]) (7.17.7)\n",
            "Requirement already satisfied: mmh3 in /usr/local/lib/python3.7/dist-packages (from farm-haystack[ocr]) (3.0.0)\n",
            "Requirement already satisfied: networkx in /usr/local/lib/python3.7/dist-packages (from farm-haystack[ocr]) (2.6.3)\n",
            "Requirement already satisfied: rapidfuzz<2.8.0,>=2.0.15 in /usr/local/lib/python3.7/dist-packages (from farm-haystack[ocr]) (2.7.0)\n",
            "Requirement already satisfied: jsonschema in /usr/local/lib/python3.7/dist-packages (from farm-haystack[ocr]) (4.3.3)\n",
            "Requirement already satisfied: posthog in /usr/local/lib/python3.7/dist-packages (from farm-haystack[ocr]) (2.2.0)\n",
            "Requirement already satisfied: langdetect in /usr/local/lib/python3.7/dist-packages (from farm-haystack[ocr]) (1.0.9)\n",
            "Requirement already satisfied: scikit-learn>=1.0.0 in /usr/local/lib/python3.7/dist-packages (from farm-haystack[ocr]) (1.0.2)\n",
            "Requirement already satisfied: seqeval in /usr/local/lib/python3.7/dist-packages (from farm-haystack[ocr]) (1.2.2)\n",
            "Requirement already satisfied: pandas in /usr/local/lib/python3.7/dist-packages (from farm-haystack[ocr]) (1.3.5)\n",
            "Requirement already satisfied: pydantic in /usr/local/lib/python3.7/dist-packages (from farm-haystack[ocr]) (1.10.2)\n",
            "Requirement already satisfied: tqdm in /usr/local/lib/python3.7/dist-packages (from farm-haystack[ocr]) (4.64.1)\n",
            "Requirement already satisfied: more-itertools in /usr/local/lib/python3.7/dist-packages (from farm-haystack[ocr]) (9.0.0)\n",
            "Requirement already satisfied: transformers==4.21.2 in /usr/local/lib/python3.7/dist-packages (from farm-haystack[ocr]) (4.21.2)\n",
            "Requirement already satisfied: pillow in /usr/local/lib/python3.7/dist-packages (from farm-haystack[ocr]) (9.3.0)\n",
            "Requirement already satisfied: pytesseract>0.3.7 in /usr/local/lib/python3.7/dist-packages (from farm-haystack[ocr]) (0.3.10)\n",
            "Requirement already satisfied: pdf2image>1.14 in /usr/local/lib/python3.7/dist-packages (from farm-haystack[ocr]) (1.16.0)\n",
            "Requirement already satisfied: packaging>=20.0 in /usr/local/lib/python3.7/dist-packages (from transformers==4.21.2->farm-haystack[ocr]) (21.3)\n",
            "Requirement already satisfied: tokenizers!=0.11.3,<0.13,>=0.11.1 in /usr/local/lib/python3.7/dist-packages (from transformers==4.21.2->farm-haystack[ocr]) (0.12.1)\n",
            "Requirement already satisfied: numpy>=1.17 in /usr/local/lib/python3.7/dist-packages (from transformers==4.21.2->farm-haystack[ocr]) (1.21.6)\n",
            "Requirement already satisfied: regex!=2019.12.17 in /usr/local/lib/python3.7/dist-packages (from transformers==4.21.2->farm-haystack[ocr]) (2022.6.2)\n",
            "Requirement already satisfied: filelock in /usr/local/lib/python3.7/dist-packages (from transformers==4.21.2->farm-haystack[ocr]) (3.8.0)\n",
            "Requirement already satisfied: pyyaml>=5.1 in /usr/local/lib/python3.7/dist-packages (from transformers==4.21.2->farm-haystack[ocr]) (6.0)\n",
            "Requirement already satisfied: azure-common~=1.1 in /usr/local/lib/python3.7/dist-packages (from azure-ai-formrecognizer>=3.2.0b2->farm-haystack[ocr]) (1.1.28)\n",
            "Requirement already satisfied: azure-core<2.0.0,>=1.23.0 in /usr/local/lib/python3.7/dist-packages (from azure-ai-formrecognizer>=3.2.0b2->farm-haystack[ocr]) (1.26.1)\n",
            "Requirement already satisfied: typing-extensions>=4.0.1 in /usr/local/lib/python3.7/dist-packages (from azure-ai-formrecognizer>=3.2.0b2->farm-haystack[ocr]) (4.1.1)\n",
            "Requirement already satisfied: msrest>=0.6.21 in /usr/local/lib/python3.7/dist-packages (from azure-ai-formrecognizer>=3.2.0b2->farm-haystack[ocr]) (0.7.1)\n",
            "Requirement already satisfied: certifi in /usr/local/lib/python3.7/dist-packages (from elasticsearch<8,>=7.7->farm-haystack[ocr]) (2022.9.24)\n",
            "Requirement already satisfied: urllib3<2,>=1.21.1 in /usr/local/lib/python3.7/dist-packages (from elasticsearch<8,>=7.7->farm-haystack[ocr]) (1.24.3)\n",
            "Requirement already satisfied: jarowinkler<2.0.0,>=1.2.0 in /usr/local/lib/python3.7/dist-packages (from rapidfuzz<2.8.0,>=2.0.15->farm-haystack[ocr]) (1.2.3)\n",
            "Requirement already satisfied: threadpoolctl>=2.0.0 in /usr/local/lib/python3.7/dist-packages (from scikit-learn>=1.0.0->farm-haystack[ocr]) (3.1.0)\n",
            "Requirement already satisfied: joblib>=0.11 in /usr/local/lib/python3.7/dist-packages (from scikit-learn>=1.0.0->farm-haystack[ocr]) (1.2.0)\n",
            "Requirement already satisfied: torchvision in /usr/local/lib/python3.7/dist-packages (from sentence-transformers>=2.2.0->farm-haystack[ocr]) (0.13.1+cu113)\n",
            "Requirement already satisfied: sentencepiece in /usr/local/lib/python3.7/dist-packages (from sentence-transformers>=2.2.0->farm-haystack[ocr]) (0.1.97)\n",
            "Requirement already satisfied: zipp>=0.5 in /usr/local/lib/python3.7/dist-packages (from importlib-metadata->farm-haystack[ocr]) (3.10.0)\n",
            "Requirement already satisfied: pyrsistent!=0.17.0,!=0.17.1,!=0.17.2,>=0.14.0 in /usr/local/lib/python3.7/dist-packages (from jsonschema->farm-haystack[ocr]) (0.19.2)\n",
            "Requirement already satisfied: importlib-resources>=1.4.0 in /usr/local/lib/python3.7/dist-packages (from jsonschema->farm-haystack[ocr]) (5.10.0)\n",
            "Requirement already satisfied: attrs>=17.4.0 in /usr/local/lib/python3.7/dist-packages (from jsonschema->farm-haystack[ocr]) (22.1.0)\n",
            "Requirement already satisfied: six in /usr/local/lib/python3.7/dist-packages (from langdetect->farm-haystack[ocr]) (1.15.0)\n",
            "Requirement already satisfied: entrypoints<1 in /usr/local/lib/python3.7/dist-packages (from mlflow->farm-haystack[ocr]) (0.4)\n",
            "Requirement already satisfied: querystring-parser<2 in /usr/local/lib/python3.7/dist-packages (from mlflow->farm-haystack[ocr]) (1.2.4)\n",
            "Requirement already satisfied: gunicorn<21 in /usr/local/lib/python3.7/dist-packages (from mlflow->farm-haystack[ocr]) (20.1.0)\n",
            "Requirement already satisfied: sqlalchemy<2,>=1.4.0 in /usr/local/lib/python3.7/dist-packages (from mlflow->farm-haystack[ocr]) (1.4.43)\n",
            "Requirement already satisfied: gitpython<4,>=2.1.0 in /usr/local/lib/python3.7/dist-packages (from mlflow->farm-haystack[ocr]) (3.1.29)\n",
            "Requirement already satisfied: docker<7,>=4.0.0 in /usr/local/lib/python3.7/dist-packages (from mlflow->farm-haystack[ocr]) (5.0.3)\n",
            "Requirement already satisfied: protobuf<5,>=3.12.0 in /usr/local/lib/python3.7/dist-packages (from mlflow->farm-haystack[ocr]) (3.19.6)\n",
            "Requirement already satisfied: cloudpickle<3 in /usr/local/lib/python3.7/dist-packages (from mlflow->farm-haystack[ocr]) (1.5.0)\n",
            "Requirement already satisfied: databricks-cli<1,>=0.8.7 in /usr/local/lib/python3.7/dist-packages (from mlflow->farm-haystack[ocr]) (0.17.3)\n",
            "Requirement already satisfied: sqlparse<1,>=0.4.0 in /usr/local/lib/python3.7/dist-packages (from mlflow->farm-haystack[ocr]) (0.4.3)\n",
            "Requirement already satisfied: pytz<2023 in /usr/local/lib/python3.7/dist-packages (from mlflow->farm-haystack[ocr]) (2022.6)\n",
            "Requirement already satisfied: click<9,>=7.0 in /usr/local/lib/python3.7/dist-packages (from mlflow->farm-haystack[ocr]) (7.1.2)\n",
            "Requirement already satisfied: alembic<2 in /usr/local/lib/python3.7/dist-packages (from mlflow->farm-haystack[ocr]) (1.8.1)\n",
            "Requirement already satisfied: prometheus-flask-exporter<1 in /usr/local/lib/python3.7/dist-packages (from mlflow->farm-haystack[ocr]) (0.21.0)\n",
            "Requirement already satisfied: Flask<3 in /usr/local/lib/python3.7/dist-packages (from mlflow->farm-haystack[ocr]) (1.1.4)\n",
            "Requirement already satisfied: python-dateutil>=2.7.3 in /usr/local/lib/python3.7/dist-packages (from pandas->farm-haystack[ocr]) (2.8.2)\n",
            "Requirement already satisfied: charset-normalizer<3,>=2 in /usr/local/lib/python3.7/dist-packages (from requests->farm-haystack[ocr]) (2.1.1)\n",
            "Requirement already satisfied: idna<4,>=2.5 in /usr/local/lib/python3.7/dist-packages (from requests->farm-haystack[ocr]) (2.10)\n",
            "Requirement already satisfied: backoff<2.0.0,>=1.10.0 in /usr/local/lib/python3.7/dist-packages (from posthog->farm-haystack[ocr]) (1.11.1)\n",
            "Requirement already satisfied: monotonic>=1.5 in /usr/local/lib/python3.7/dist-packages (from posthog->farm-haystack[ocr]) (1.6)\n",
            "Requirement already satisfied: lxml>=2.3.2 in /usr/local/lib/python3.7/dist-packages (from python-docx->farm-haystack[ocr]) (4.9.1)\n",
            "Requirement already satisfied: num2words in /usr/local/lib/python3.7/dist-packages (from quantulum3->farm-haystack[ocr]) (0.5.12)\n",
            "Requirement already satisfied: inflect in /usr/local/lib/python3.7/dist-packages (from quantulum3->farm-haystack[ocr]) (2.1.0)\n",
            "Requirement already satisfied: setuptools in /usr/local/lib/python3.7/dist-packages (from tika->farm-haystack[ocr]) (57.4.0)\n",
            "Requirement already satisfied: Mako in /usr/local/lib/python3.7/dist-packages (from alembic<2->mlflow->farm-haystack[ocr]) (1.2.4)\n",
            "Requirement already satisfied: tabulate>=0.7.7 in /usr/local/lib/python3.7/dist-packages (from databricks-cli<1,>=0.8.7->mlflow->farm-haystack[ocr]) (0.8.10)\n",
            "Requirement already satisfied: pyjwt>=1.7.0 in /usr/local/lib/python3.7/dist-packages (from databricks-cli<1,>=0.8.7->mlflow->farm-haystack[ocr]) (2.6.0)\n",
            "Requirement already satisfied: oauthlib>=3.1.0 in /usr/local/lib/python3.7/dist-packages (from databricks-cli<1,>=0.8.7->mlflow->farm-haystack[ocr]) (3.2.2)\n",
            "Requirement already satisfied: websocket-client>=0.32.0 in /usr/local/lib/python3.7/dist-packages (from docker<7,>=4.0.0->mlflow->farm-haystack[ocr]) (1.4.2)\n",
            "Requirement already satisfied: Werkzeug<2.0,>=0.15 in /usr/local/lib/python3.7/dist-packages (from Flask<3->mlflow->farm-haystack[ocr]) (1.0.1)\n",
            "Requirement already satisfied: Jinja2<3.0,>=2.10.1 in /usr/local/lib/python3.7/dist-packages (from Flask<3->mlflow->farm-haystack[ocr]) (2.11.3)\n",
            "Requirement already satisfied: itsdangerous<2.0,>=0.24 in /usr/local/lib/python3.7/dist-packages (from Flask<3->mlflow->farm-haystack[ocr]) (1.1.0)\n",
            "Requirement already satisfied: gitdb<5,>=4.0.1 in /usr/local/lib/python3.7/dist-packages (from gitpython<4,>=2.1.0->mlflow->farm-haystack[ocr]) (4.0.9)\n",
            "Requirement already satisfied: requests-oauthlib>=0.5.0 in /usr/local/lib/python3.7/dist-packages (from msrest>=0.6.21->azure-ai-formrecognizer>=3.2.0b2->farm-haystack[ocr]) (1.3.1)\n",
            "Requirement already satisfied: isodate>=0.6.0 in /usr/local/lib/python3.7/dist-packages (from msrest>=0.6.21->azure-ai-formrecognizer>=3.2.0b2->farm-haystack[ocr]) (0.6.1)\n",
            "Requirement already satisfied: pyparsing!=3.0.5,>=2.0.2 in /usr/local/lib/python3.7/dist-packages (from packaging>=20.0->transformers==4.21.2->farm-haystack[ocr]) (3.0.9)\n",
            "Requirement already satisfied: prometheus-client in /usr/local/lib/python3.7/dist-packages (from prometheus-flask-exporter<1->mlflow->farm-haystack[ocr]) (0.15.0)\n",
            "Requirement already satisfied: greenlet!=0.4.17 in /usr/local/lib/python3.7/dist-packages (from sqlalchemy<2,>=1.4.0->mlflow->farm-haystack[ocr]) (2.0.1)\n",
            "Requirement already satisfied: docopt>=0.6.2 in /usr/local/lib/python3.7/dist-packages (from num2words->quantulum3->farm-haystack[ocr]) (0.6.2)\n",
            "Requirement already satisfied: smmap<6,>=3.0.1 in /usr/local/lib/python3.7/dist-packages (from gitdb<5,>=4.0.1->gitpython<4,>=2.1.0->mlflow->farm-haystack[ocr]) (5.0.0)\n",
            "Requirement already satisfied: MarkupSafe>=0.23 in /usr/local/lib/python3.7/dist-packages (from Jinja2<3.0,>=2.10.1->Flask<3->mlflow->farm-haystack[ocr]) (2.0.1)\n",
            "\u001b[33mWARNING: Running pip as the 'root' user can result in broken permissions and conflicting behaviour with the system package manager. It is recommended to use a virtual environment instead: https://pip.pypa.io/warnings/venv\u001b[0m\u001b[33m\n",
            "\u001b[0m"
          ]
        }
      ]
    },
    {
      "cell_type": "code",
      "source": [
        "# For Colab/linux based machines:\n",
        "!wget https://dl.xpdfreader.com/xpdf-tools-linux-4.04.tar.gz\n",
        "!tar -xvf xpdf-tools-linux-4.04.tar.gz && sudo cp xpdf-tools-linux-4.04/bin64/pdftotext /usr/local/bin"
      ],
      "metadata": {
        "colab": {
          "base_uri": "https://localhost:8080/"
        },
        "id": "A14dNvhiGRDK",
        "outputId": "a4015089-1bc5-4746-ad85-de70837a21d7"
      },
      "execution_count": null,
      "outputs": [
        {
          "output_type": "stream",
          "name": "stdout",
          "text": [
            "--2022-11-18 18:56:16--  https://dl.xpdfreader.com/xpdf-tools-linux-4.04.tar.gz\n",
            "Resolving dl.xpdfreader.com (dl.xpdfreader.com)... 45.79.72.155\n",
            "Connecting to dl.xpdfreader.com (dl.xpdfreader.com)|45.79.72.155|:443... connected.\n",
            "HTTP request sent, awaiting response... 200 OK\n",
            "Length: 23687259 (23M) [application/x-gzip]\n",
            "Saving to: ‘xpdf-tools-linux-4.04.tar.gz’\n",
            "\n",
            "xpdf-tools-linux-4. 100%[===================>]  22.59M  66.3MB/s    in 0.3s    \n",
            "\n",
            "2022-11-18 18:56:16 (66.3 MB/s) - ‘xpdf-tools-linux-4.04.tar.gz’ saved [23687259/23687259]\n",
            "\n",
            "xpdf-tools-linux-4.04/\n",
            "xpdf-tools-linux-4.04/CHANGES\n",
            "xpdf-tools-linux-4.04/COPYING3\n",
            "xpdf-tools-linux-4.04/INSTALL\n",
            "xpdf-tools-linux-4.04/ANNOUNCE\n",
            "xpdf-tools-linux-4.04/bin64/\n",
            "xpdf-tools-linux-4.04/bin64/pdftopng\n",
            "xpdf-tools-linux-4.04/bin64/pdftohtml\n",
            "xpdf-tools-linux-4.04/bin64/pdfinfo\n",
            "xpdf-tools-linux-4.04/bin64/pdffonts\n",
            "xpdf-tools-linux-4.04/bin64/pdfimages\n",
            "xpdf-tools-linux-4.04/bin64/pdftotext\n",
            "xpdf-tools-linux-4.04/bin64/pdftoppm\n",
            "xpdf-tools-linux-4.04/bin64/pdftops\n",
            "xpdf-tools-linux-4.04/bin64/pdfdetach\n",
            "xpdf-tools-linux-4.04/README\n",
            "xpdf-tools-linux-4.04/COPYING\n",
            "xpdf-tools-linux-4.04/doc/\n",
            "xpdf-tools-linux-4.04/doc/pdftohtml.1\n",
            "xpdf-tools-linux-4.04/doc/pdftops.1\n",
            "xpdf-tools-linux-4.04/doc/pdfimages.1\n",
            "xpdf-tools-linux-4.04/doc/sample-xpdfrc\n",
            "xpdf-tools-linux-4.04/doc/pdffonts.1\n",
            "xpdf-tools-linux-4.04/doc/pdfdetach.1\n",
            "xpdf-tools-linux-4.04/doc/pdftoppm.1\n",
            "xpdf-tools-linux-4.04/doc/pdftotext.1\n",
            "xpdf-tools-linux-4.04/doc/pdftopng.1\n",
            "xpdf-tools-linux-4.04/doc/xpdfrc.5\n",
            "xpdf-tools-linux-4.04/doc/pdfinfo.1\n",
            "xpdf-tools-linux-4.04/bin32/\n",
            "xpdf-tools-linux-4.04/bin32/pdftopng\n",
            "xpdf-tools-linux-4.04/bin32/pdftohtml\n",
            "xpdf-tools-linux-4.04/bin32/pdfinfo\n",
            "xpdf-tools-linux-4.04/bin32/pdffonts\n",
            "xpdf-tools-linux-4.04/bin32/pdfimages\n",
            "xpdf-tools-linux-4.04/bin32/pdftotext\n",
            "xpdf-tools-linux-4.04/bin32/pdftoppm\n",
            "xpdf-tools-linux-4.04/bin32/pdftops\n",
            "xpdf-tools-linux-4.04/bin32/pdfdetach\n"
          ]
        }
      ]
    },
    {
      "cell_type": "markdown",
      "metadata": {
        "pycharm": {
          "name": "#%% md\n"
        },
        "id": "iKjPtbbY3zqy"
      },
      "source": [
        "## Preprocessing of documents\n",
        "\n",
        "Haystack provides a customizable pipeline for:\n",
        " - converting files into texts\n",
        " - cleaning texts\n",
        " - splitting texts\n",
        " - writing them to a Document Store\n",
        "\n",
        "In this tutorial, we download Wikipedia articles about Game of Thrones, apply a basic cleaning function, and index them in Elasticsearch."
      ]
    },
    {
      "cell_type": "code",
      "execution_count": null,
      "metadata": {
        "pycharm": {
          "name": "#%%\n"
        },
        "id": "IKmLvIKU3zqy",
        "colab": {
          "base_uri": "https://localhost:8080/"
        },
        "outputId": "b1b66851-b2a0-4d32-a6c7-e77151b561ba"
      },
      "outputs": [
        {
          "output_type": "stream",
          "name": "stderr",
          "text": [
            "WARNING:haystack.nodes.file_converter.pdf:The language for data/tutorial8/bert.pdf is not one of ['en']. The file may not have been decoded in the correct text format.\n",
            "INFO:haystack.utils.preprocessing:Converting /content/drive/MyDrive/demo_techM/Cyber_laws_India_new.pdf\n"
          ]
        },
        {
          "output_type": "stream",
          "name": "stdout",
          "text": [
            "[<Document: {'content': '1\\nChapter 19\\nCyber Laws in India\\nObjectives: This chapter presents the meaning and definition of cyber crime, the legislation in India\\ndealing with offences relating to the use of or concerned with the abuse of computers or other electronic\\ngadgets. The Information Technology Act 2000 and the I.T. Amendment Act 2008 have been dealt\\nwith in detail and other legislations dealing with electronic offences have been discussed in brief.\\nIntroduction:\\nCrime is both a social and economic phenomenon. It is as old as human society. Many ancient\\nbooks right from pre-historic days, and mythological stories have spoken about crimes\\ncommitted by individuals be it against another individual like ordinary theft and burglary or\\nagainst the nation like spying, treason etc. Kautilya’s Arthashastra written around 350 BC,\\nconsidered to be an authentic administrative treatise in India, discusses the various crimes,\\nsecurity initiatives to be taken by the rulers, possible crimes in a state etc. and also advocates\\npunishment for the list of some stipulated offences. Different kinds of punishments have been\\nprescribed for listed offences and the concept of restoration of loss to the victims has also been\\ndiscussed in it.\\nCrime in any form adversely affects all the members of the society. In developing economies, cyber\\ncrime has increased at rapid strides, due to the rapid diffusion of the Internet and the digitisation of\\neconomic activities. Thanks to the huge penetration of technology in almost all walks of society right\\nfrom corporate governance and state administration, up to the lowest level of petty shop keepers\\ncomputerizing their billing system, we find computers and other electronic devices pervading the\\nhuman life. The penetration is so deep that man cannot spend a day without computers or a mobile.\\nSnatching some one’s mobile will tantamount to dumping one in solitary confinement!\\nCyber Crime is not defined in Information Technology Act 2000 nor in the I.T. Amendment Act 2008\\nnor in any other legislation in India. In fact, it cannot be too. Offence or crime has been dealt with\\nelaborately listing various acts and the punishments for each, under the Indian Penal Code, 1860 and\\nquite a few other legislations too. Hence, to define cyber crime, we can say, it is just a combination of\\ncrime and computer. To put it in simple terms ‘any offence or crime in which a computer is used is a\\ncyber crime’. Interestingly even a petty offence like stealing or pick-pocket can be brought within the\\nbroader purview of cyber crime if the basic data or aid to such an offence is a computer or an\\ninformation stored in a computer used (or misused) by the fraudster. The I.T. Act defines a computer,\\ncomputer network, data, information and all other necessary ingredients that form part of a cyber crime,\\nabout which we will now be discussing in detail.\\nIn a cyber crime, computer or the data itself the target or the object of offence or a tool in committing\\nsome other offence, providing the necessary inputs for that offence. All such acts of crime will come\\nunder the broader definition of cyber crime.\\x0c2\\nLet us now discuss in detail, the Information Technology Act -2000 and the I.T. Amendment Act 2008\\nin general and with particular reference to banking and financial sector related transactions. Before\\ngoing into the section-wise or chapter-wise description of various provisions of the Act, let us discuss\\nthe history behind such a legislation in India, the circumstances under which the Act was passed and the\\npurpose or objectives in passing it.\\nThe Genesis of IT legislation in India: Mid 90’s saw an impetus in globalization and computerisation,\\nwith more and more nations computerizing their governance, and e-commerce seeing an enormous\\ngrowth. Until then, most of international trade and transactions were done through documents being\\ntransmitted through post and by telex only. Evidences and records, until then, were predominantly\\npaper evidences and paper records or other forms of hard-copies only. With much of international trade\\nbeing done through electronic communication and with email gaining momentum, an urgent and\\nimminent need was felt for recognizing electronic records ie the data what is stored in a computer or an\\nexternal storage attached thereto.\\nThe United Nations Commission on International Trade Law (UNCITRAL) adopted the Model Law on\\ne-commerce in 1996. The General Assembly of United Nations passed a resolution in January 1997\\ninter alia, recommending all States in the UN to give favourable considerations to the said Model Law,\\nwhich provides for recognition to electronic records and according it the same treatment like a paper\\ncommunication and record.\\nObjectives of I.T. legislation in India: . It is against this background the Government of India\\nenacted its Information Technology Act 2000 with the objectives as follows, stated in the preface to the\\nAct itself.\\n“to provide legal recognition for transactions carried out by means of electronic data interchange and\\nother means of electronic communication, commonly referred to as \"electronic commerce\", which\\ninvolve the use of alternatives to paper-based methods of communication and storage of information, to\\nfacilitate electronic filing of documents with the Government agencies and further to amend the Indian\\nPenal Code, the Indian Evidence Act, 1872, the Bankers\\' Books Evidence Act, 1891 and the Reserve\\nBank of India Act, 1934 and for matters connected therewith or incidental thereto.”\\nThe Information Technology Act, 2000, was thus passed as the Act No.21 of 2000, got President assent\\non 9 June and was made effective from 17 October 2000.\\nThe Act essentially deals with the following issues:\\n\\uf0d8 Legal Recognition of Electronic Documents\\uf020\\n\\uf0d8 Legal Recognition of Digital Signatures\\uf020\\n\\uf0d8 Offenses and Contraventions\\uf020\\n\\uf0d8 Justice Dispensation Systems for cyber crimes.\\uf020\\nAmendment Act 2008: Being the first legislation in the nation on technology, computers and e-\\ncommerce and e-communication, the Act was the subject of extensive debates, elaborate reviews and\\ndetailed criticisms, with one arm of the industry criticizing some sections of the Act to be draconian and\\nother stating it is too diluted and lenient. There were some conspicuous omissions too resulting in the\\ninvestigators relying more and more on the time-tested (one and half century-old) Indian Penal Code\\neven in technology based cases with the I.T. Act also being referred in the process and the reliance\\nmore on IPC rather on the ITA.\\x0c3\\nThus the need for an amendment – a detailed one – was felt for the I.T. Act almost from the year 2003-\\n04 itself. Major industry bodies were consulted and advisory groups were formed to go into the\\nperceived lacunae in the I.T. Act and comparing it with similar legislations in other nations and to\\nsuggest recommendations. Such recommendations were analysed and subsequently taken up as a\\ncomprehensive Amendment Act and after considerable administrative procedures, the consolidated\\namendment called the Information Technology Amendment Act 2008 was placed in the Parliament and\\npassed without much debate, towards the end of 2008 (by which time the Mumbai terrorist attack of 26\\nNovember 2008 had taken place). This Amendment Act got the President assent on 5 Feb 2009 and\\nwas made effective from 27 October 2009.\\nSome of the notable features of the ITAA are as follows:\\n\\uf0d8 Focussing on data privacy\\uf020\\n\\uf0d8 Focussing on Information Security\\uf020\\n\\uf0d8 Defining cyber café\\uf020\\n\\uf0d8 Making digital signature technology neutral\\uf020\\n\\uf0d8 Defining reasonable security practices to be followed by corporate\\uf020\\n\\uf0d8 Redefining the role of intermediaries\\uf020\\n\\uf0d8 Recognising the role of Indian Computer Emergency Response Team\\uf020\\n\\uf0d8 Inclusion of some additional cyber crimes like child pornography and cyber terrorism\\uf020\\n\\uf0d8 authorizing an Inspector to investigate cyber offences (as against the DSP earlier)\\uf020\\nIn this chapter, we will be broadly discussing the various provisions of ITA 2000 and wherever the\\nsame has been amended or a new section added as per the ITAA 2008, such remark will be made\\nappropriately.\\nHow the Act is structured: The Act totally has 13 chapters and 90 sections (the last four sections\\nnamely sections 91 to 94 in the ITA 2000 dealt with the amendments to the four Acts namely the Indian\\nPenal Code 1860, The Indian Evidence Act 1872, The Bankers’ Books Evidence Act 1891 and the\\nReserve Bank of India Act 1934). The Act begins with preliminary and definitions and from thereon\\nthe chapters that follow deal with authentication of electronic records, digital signatures, electronic\\nsignatures etc.\\nElaborate procedures for certifying authorities (for digital certificates as per IT Act -2000 and since\\nreplaced by electronic signatures in the ITAA -2008) have been spelt out. The civil offence of data theft\\nand the process of adjudication and appellate procedures have been described. Then the Act goes on to\\ndefine and describe some of the well-known cyber crimes and lays down the punishments therefore.\\nThen the concept of due diligence, role of intermediaries and some miscellaneous provisions have been\\ndescribed.\\nRules and procedures mentioned in the Act have also been laid down in a phased manner, with the\\nlatest one on the definition of private and sensitive personal data and the role of intermediaries, due\\ndiligence etc., being defined as recently as April 2011. We will be discussing some of the important\\nprovisions of such rules also in the later part of this chapter.\\nApplicability: The Act extends to the whole of India and except as otherwise provided, it applies to\\nalso any offence or contravention there under committed outside India by any person. There are some\\nspecific exclusions to the Act (ie where it is not applicable) as detailed in the First Schedule, stated\\nbelow:\\x0c4\\na) negotiable instrument (Other than a cheque) as defined in section 13 of the Negotiable\\nInstruments Act, 1881;\\nb) a power-of-attorney as defined in section 1A of the Powers-of-Attorney Act, 1882;\\nc) a trust as defined in section 3 of the Indian Trusts Act, 1882\\nd) a will as defined in clause (h) of section 2 of the Indian Succession Act, 1925 including\\nany other testamentary disposition\\ne) any contract for the sale or conveyance of immovable property or any interest in such\\nproperty;\\nf) any such class of documents or transactions as may be notified by the Central\\nGovernment\\nDefinitions: The ITA-2000 defines many important words used in common computer parlance like\\n‘access’, ‘computer resource’, ‘computer system’, ‘communication device’, ‘data’, ‘information’,\\n’security procedure’ etc. The definition of the word ‘computer’ itself assumes significance here.\\n‘Computer’ means any electronic magnetic, optical or other high-speed data processing device or\\nsystem which performs logical, arithmetic, and memory functions by manipulations of electronic,\\nmagnetic or optical impulses, and includes all input, output, processing, storage, computer software, or\\ncommunication facilities which are connected or related to the computer in a computer system or\\ncomputer network;\\nSo is the word ‘computer system’ which means a device or a collection of devices with input, output\\nand storage capabilities. Interestingly, the word ‘computer’ and ‘computer system’ have been so widely\\ndefined to mean any electronic device with data processing capability, performing computer functions\\nlike logical, arithmetic and memory functions with input, storage and output capabilities. A careful\\nreading of the words will make one understand that a high-end programmable gadgets like even a\\nwashing machine or switches and routers used in a network can all be brought under the definition.\\nSimilarly the word ‘communication devices’ inserted in the ITAA-2008 has been given an inclusive\\ndefinition, taking into its coverage cell phones, personal digital assistance or such other devices used to\\ntransmit any text, video etc like what was later being marketed as iPad or other similar devices on Wi-fi\\nand cellular models. Definitions for some words like ‘cyber café’ were also later incorporated in the\\nITAA 2008 when ‘Indian Computer response Emergency Team’ was included.\\nDigital Signature: ‘Electronic signature’ was defined in the ITAA -2008 whereas the earlier ITA -2000\\ncovered in detail about digital signature, defining it and elaborating the procedure to obtain the digital\\nsignature certificate and giving it legal validity. Digital signature was defined in the ITA -2000 as\\n“authentication of electronic record” as per procedure laid down in Section 3 and Section 3 discussed\\nthe use of asymmetric crypto system and the use of Public Key Infrastructure and hash function etc.\\nThis was later criticized to be technology dependent ie., relying on the specific technology of\\nasymmetric crypto system and the hash function generating a pair of public and private key\\nauthentication etc.\\nThus Section 3 which was originally “Digital Signature” was later renamed as “Digital Signature and\\nElectronic Signature” in ITAA - 2008 thus introducing technological neutrality by adoption of\\nelectronic signatures as a legally valid mode of executing signatures. This includes digital signatures as\\none of the modes of signatures and is far broader in ambit covering biometrics and other new forms of\\ncreating electronic signatures not confining the recognition to digital signature process alone. While\\nM/s. TCS, M/s. Safescript and M/s. MTNL are some of the digital signature certifying authorities in\\x0c5\\nIndia, IDRBT (Institute for Development of Research in Banking Technology – the research wing of\\nRBI) is the Certifying Authorities (CA) for the Indian Banking and financial sector licensed by the\\nController of Certifying Authorities, Government of India.\\nIt is relevant to understand the meaning of digital signature (or electronic signature) here. It would be\\npertinent to note that electronic signature (or the earlier digital signature) as stipulated in the Act is\\nNOT a digitized signature or a scanned signature. In fact, in electronic signature (or digital signature)\\nthere is no real signature by the person, in the conventional sense of the term. Electronic signature is\\nnot the process of storing ones signature or scanning ones signature and sending it in an electronic\\ncommunication like email. It is a process of authentication of message using the procedure laid down\\nin Section 3 of the Act.\\nThe other forms of authentication that are simpler to use such as biometric based retina scanning etc can\\nbe quite useful in effective implementation of the Act. However, the Central Government has to evolve\\ndetailed procedures and increase awareness on the use of such systems among the public by putting in\\nplace the necessary tools and stipulating necessary conditions. Besides, duties of electronic signature\\ncertificate issuing authorities for bio-metric based authentication mechanisms have to be evolved and\\nthe necessary parameters have to be formulated to make it user-friendly and at the same time without\\ncompromising security.\\ne-Governance: Chapter III discusses Electronic governance issues and procedures and the legal\\nrecognition to electronic records is dealt with in detail in Section 4 followed by description of\\nprocedures on electronic records, storage and maintenance and according recognition to the validity of\\ncontracts formed through electronic means.\\nProcedures relating to electronic signatures and regulatory guidelines for certifying authorities have\\nbeen laid down in the sections that follow.\\nChapter IX dealing with Penalties, Compensation and Adjudication is a major significant step in the\\ndirection of combating data theft, claiming compensation, introduction of security practices etc\\ndiscussed in Section 43, and which deserve detailed description.\\nSection 43 deals with penalties and compensation for damage to computer, computer system etc.\\nThis section is the first major and significant legislative step in India to combat the issue of data theft.\\nThe IT industry has for long been clamouring for a legislation in India to address the crime of data theft,\\njust like physical theft or larceny of goods and commodities. This Section addresses the civil offence of\\ntheft of data. If any person without permission of the owner or any other person who is in charge of a\\ncomputer, accesses or downloads, copies or extracts any data or introduces any computer contaminant\\nlike virus or damages or disrupts any computer or denies access to a computer to an authorised user or\\ntampers etc…he shall be liable to pay damages to the person so affected. Earlier in the ITA -2000 the\\nmaximum damages under this head was Rs.1 crore, which (the ceiling) was since removed in the ITAA\\n2008.\\nThe essence of this Section is civil liability. Criminality in the offence of data theft is being separately\\ndealt with later under Sections 65 and 66. Writing a virus program or spreading a virus mail, a bot, a\\nTrojan or any other malware in a computer network or causing a Denial of Service Attack in a server\\nwill all come under this Section and attract civil liability by way of compensation. Under this Section,\\nwords like Computer Virus, Compute Contaminant, Computer database and Source Code are all\\ndescribed and defined.\\x0c6\\nQuestions like the employees’ liability in an organisation which is sued against for data theft or such\\noffences and the amount of responsibility of the employer or the owner and the concept of due diligence\\nwere all debated in the first few years of ITA -2000 in court litigations like the bazee.com case and\\nother cases. Subsequently need was felt for defining the corporate liability for data protection and\\ninformation security at the corporate level was given a serious look.\\nThus the new Section 43-A dealing with compensation for failure to protect data was introduced in the\\nITAA -2008. This is another watershed in the area of data protection especially at the corporate level.\\nAs per this Section, where a body corporate is negligent in implementing reasonable security practices\\nand thereby causes wrongful loss or gain to any person, such body corporate shall be liable to pay\\ndamages by way of compensation to the person so affected. The Section further explains the phrase\\n‘body corporate’ and quite significantly the phrases ‘reasonable security practices and procedures’ and\\n‘sensitive personal data or information’.\\nThus the corporate responsibility for data protection is greatly emphasized by inserting Section 43A\\nwhereby corporates are under an obligation to ensure adoption of reasonable security practices. Further\\nwhat is sensitive personal data has since been clarified by the central government vide its Notification\\ndated 11 April 2011 giving the list of all such data which includes password, details of bank accounts or\\ncard details, medical records etc. After this notification, the IT industry in the nation including tech-\\nsavvy and widely technology-based banking and other sectors became suddenly aware of the\\nresponsibility of data protection and a general awareness increased on what is data privacy and what is\\nthe role of top management and the Information Security Department in organisations in ensuring data\\nprotection, especially while handling the customers’ and other third party data.\\nThe Information Technology (Reasonable security practices and procedures and sensitive personal data\\nor information) Rules have since been notified by the Government of India, Dept of I.T. on 11 April\\n2011. Any body corporate or a person on its behalf shall be considered to have complied with\\nreasonable security practices and procedures, if they have implemented such security practices and\\nstandards and have a comprehensive documented information security programme and information\\nsecurity policies containing managerial, technical, operational and physical security control measures\\ncommensurate with the information assets being protected with the nature of business. In the event of\\nan information security breach, the body corporate or a person on its behalf shall be required to\\ndemonstrate, as and when called upon to do so by the agency mandated under the law, that they have\\nimplemented security control measures as per their documented information security programme and\\x0c7\\ninformation security policies. The international Standard IS/ISO/IEC 27001 on \"Information\\nTechnology – Security Techniques - Information Security Management System - Requirements\" is one\\nsuch standard referred to in sub-rule (1).\\nIn view of the foregoing, it has now become a major compliance issue on the part of not only IT\\ncompanies but also those in the Banking and Financial Sector especially those banks with huge\\ncomputerised operations dealing with public data and depending heavily on technology. In times of a\\nlitigation or any security breach resulting in a claim of compensation of financial loss amount or\\ndamages, it would be the huge responsibility on the part of those body corporate to prove that that said\\n“Reasonable Security Practices and Procedures” were actually in place and all the steps mentioned in\\nthe Rules passed in April 2011 stated above, have been taken.\\nIn the near future, this is one of the sections that is going to create much noise and be the subject of\\nmuch debates in the event of litigations, like in re-defining the role of an employee, the responsibility of\\nan employer or the top management in data protection and issues like the actual and vicarious\\nresponsibility, the actual and contributory negligence of all stake holders involved etc.\\nThe issue has wider ramifications especially in the case of a cloud computing scenario (the practice of\\nusing a network of remote servers hosted on the Internet to store, manage, and process data, rather than\\na local server, with the services managed by the provider sold on demand, for the amount of time used)\\nwhere more and more organisations handle the data of others and the information is stored elsewhere\\nand not in the owners’ system. Possibly, more debates will emanate on the question of information\\nowners vis a vis the information container and the information custodians and the Service Level\\nAgreements of all parties involved will assume a greater significance.\\nAdjudication: Having dealt with civil offences, the Act then goes on to describe civil remedy to such\\noffences in the form of adjudication without having to resort to the procedure of filing a complaint with\\nthe police or other investigating agencies. Adjudication powers and procedures have been elaborately\\nlaid down in Sections 46 and thereafter. The Central Government may appoint any officer not below\\nthe rank of a director to the Government of India or a state Government as the adjudicator. The I.T.\\nSecretary in any state is normally the nominated Adjudicator for all civil offences arising out of data\\nthefts and resultant losses in the particular state. If at all one section can be criticized to be absolutely\\nlacking in popularity in the IT Act, it is this provision. In the first ten years of existence of the ITA,\\nthere have been only a very few applications made in the nation, that too in the major metros almost all\\nof which are under different stages of judicial process and adjudications have been obtained in possibly\\nless than five cases. The first adjudication obtained under this provision was in Chennai, Tamil Nadu,\\nin a case involving ICICI Bank in which the bank was told to compensate the applicant with the\\namount wrongfully debited in Internet Banking, along with cost and damages. in April 2010.\\nThis section should be given much popularity and awareness should be spread among the public\\nespecially the victims of cyber crimes and data theft that such a procedure does exist without recourse\\nto going to the police and filing a case. It is time the state spends some time and thought in enhancing\\nawareness on the provision of adjudication for civil offences in cyber litigations like data theft etc so\\nthat the purpose for which such useful provisions have been made, are effectively utilized by the litigant\\npublic.\\nThere is an appellate procedure under this process and the composition of Cyber Appellate Tribunal at\\nthe national level, has also been described in the Act. Every adjudicating officer has the powers of a\\x0c8\\ncivil court and the Cyber Appellate Tribunal has the powers vested in a civil court under the Code of\\nCivil Procedure.\\nAfter discussing the procedures relating to appeals etc and the duties and powers of Cyber Appellate\\nTribunal, the Act moves to the actual criminal acts coming under the broader definition of cyber crimes.\\nIt would be pertinent to note that the Act only lists some of the cyber crimes, (without defining a cyber\\ncrime) and stipulates the punishments for such offences. The criminal provisions of the IT Act and\\nthose dealing with cognizable offences and criminal acts follow from Chapter IX titled “Offences”\\nSection 65: Tampering with source documents is dealt with under this section. Concealing, destroying,\\naltering any computer source code when the same is required to be kept or maintained by law is an\\noffence punishable with three years imprisonment or two lakh rupees or with both. Fabrication of an\\nelectronic record or committing forgery by way of interpolations in CD produced as evidence in a court\\n(Bhim Sen Garg vs State of Rajasthan and others, 2006, Cri LJ, 3463, Raj 2411) attract punishment\\nunder this Section. Computer source code under this Section refers to the listing of programmes,\\ncomputer commands, design and layout etc in any form.\\nSection 66: Computer related offences are dealt with under this Section. Data theft stated in Section\\n43 is referred to in this Section. Whereas it was a plain and simple civil offence with the remedy of\\ncompensation and damages only, in that Section, here it is the same act but with a criminal intention\\nthus making it a criminal offence. The act of data theft or the offence stated in Section 43 if done\\ndishonestly or fraudulently becomes a punishable offence under this Section and attracts imprisonment\\nupto three years or a fine of five lakh rupees or both. Earlier hacking was defined in Sec 66 and it was\\nan offence.\\nNow after the amendment, data theft of Sec 43 is being referred to in Sec 66 by making this section\\nmore purposeful and the word ‘hacking’ is not used. The word ‘hacking’ was earlier called a crime in\\nthis Section and at the same time, courses on ‘ethical hacking’ were also taught academically. This led\\nto an anomalous situation of people asking how an illegal activity be taught academically with a word\\n‘ethical’ prefixed to it. Then can there be training programmes, for instance, on “Ethical burglary”,\\n“Ethical Assault” etc say for courses on physical defence? This tricky situation was put an end to, by\\nthe ITAA when it re-phrased the Section 66 by mapping it with the civil liability of Section 43 and\\nremoving the word ‘Hacking’. However the act of hacking is still certainly an offence as per this\\nSection, though some experts interpret ‘hacking’ as generally for good purposes (obviously to facilitate\\nnaming of the courses as ethical hacking) and ‘cracking’ for illegal purposes. It would be relevant to\\nnote that the technology involved in both is the same and the act is the same, whereas in ‘hacking’ the\\nowner’s consent is obtained or assumed and the latter act ‘cracking’ is perceived to be an offence.\\nThanks to ITAA, Section 66 is now a widened one with a list of offences as follows:\\n66A Sending offensive messages thro communication service, causing annoyance etc through an\\nelectronic communication or sending an email to mislead or deceive the recipient about the origin of\\nsuch messages (commonly known as IP or email spoofing) are all covered here. Punishment for these\\nacts is imprisonment upto three years or fine.\\n66B Dishonestly receiving stolen computer resource or communication device with punishment upto\\nthree years or one lakh rupees as fine or both.\\n66C Electronic signature or other identity theft like using others’ password or electronic signature etc.\\nPunishment is three years imprisonment or fine of one lakh rupees or both.\\x0c9\\n66D Cheating by personation using computer resource or a communication device shall be punished\\nwith imprisonment of either description for a term which extend to three years and shall also be liable to\\nfine which may extend to one lakh rupee.\\n66E Privacy violation – Publishing or transmitting private area of any person without his or her consent\\netc. Punishment is three years imprisonment or two lakh rupees fine or both.\\n66F Cyber terrorism – Intent to threaten the unity, integrity, security or sovereignty of the nation and\\ndenying access to any person authorized to access the computer resource or attempting to penetrate or\\naccess a computer resource without authorization. Acts of causing a computer contaminant (like virus\\nor Trojan Horse or other spyware or malware) likely to cause death or injuries to persons or damage to\\nor destruction of property etc. come under this Section. Punishment is life imprisonment.\\nIt may be observed that all acts under S.66 are cognizable and non-bailable offences. Intention or the\\nknowledge to cause wrongful loss to others ie the existence of criminal intention and the evil mind ie\\nconcept of mens rea, destruction, deletion, alteration or diminishing in value or utility of data are all\\nthe major ingredients to bring any act under this Section.\\nTo summarise, what was civil liability with entitlement for compensations and damages in Section 43,\\nhas been referred to here, if committed with criminal intent, making it a criminal liability attracting\\nimprisonment and fine or both.\\nSection 67 deals with publishing or transmitting obscene material in electronic form. The earlier\\nSection in ITA was later widened as per ITAA 2008 in which child pornography and retention of\\nrecords by intermediaries were all included.\\nPublishing or transmitting obscene material in electronic form is dealt with here. Whoever publishes or\\ntransmits any material which is lascivious or appeals to the prurient interest or if its effect is such as to\\ntend to deprave and corrupt persons who are likely to read the matter contained in it, shall be punished\\nwith first conviction for a term upto three years and fine of five lakh rupees and in second conviction\\nfor a term of five years and fine of ten lakh rupees or both.\\nThis Section is of historical importance since the landmark judgement in what is considered to be the\\nfirst ever conviction under I.T. Act 2000 in India, was obtained in this Section in the famous case “State\\nof Tamil Nadu vs Suhas Katti” on 5 November 2004. The strength of the Section and the reliability of\\nelectronic evidences were proved by the prosecution and conviction was brought about in this case,\\ninvolving sending obscene message in the name of a married women amounting to cyber stalking, email\\nspoofing and the criminal activity stated in this Section.\\nSection 67-A deals with publishing or transmitting of material containing sexually explicit act in\\nelectronic form. Contents of Section 67 when combined with the material containing sexually explicit\\nmaterial attract penalty under this Section.\\nChild Pornography has been exclusively dealt with under Section 67B. Depicting children engaged\\nin sexually explicit act, creating text or digital images or advertising or promoting such material\\ndepicting children in obscene or indecent manner etc or facilitating abusing children online or inducing\\nchildren to online relationship with one or more children etc come under this Section. ‘Children’ means\\npersons who have not completed 18 years of age, for the purpose of this Section. Punishment for the\\nfirst conviction is imprisonment for a maximum of five years and fine of ten lakh rupees and in the\\nevent of subsequent conviction with imprisonment of seven years and fine of ten lakh rupees.\\x0c10\\nBonafide heritage material being printed or distributed for the purpose of education or literature etc are\\nspecifically excluded from the coverage of this Section, to ensure that printing and distribution of\\nancient epics or heritage material or pure academic books on education and medicine are not unduly\\naffected.\\nScreening videographs and photographs of illegal activities through Internet all come under this\\ncategory, making pornographic video or MMS clippings or distributing such clippings through mobile\\nor other forms of communication through the Internet fall under this category.\\nSection 67C fixes the responsibility to intermediaries that they shall preserve and retain such\\ninformation as may be specified for such duration and in such manner as the Central Government may\\nprescribe. Non-compliance is an offence with imprisonment upto three years or fine.\\nTransmission of electronic message and communication:\\nSection 69: This is an interesting section in the sense that it empowers the Government or agencies as\\nstipulated in the Section, to intercept, monitor or decrypt any information generated, transmitted,\\nreceived or stored in any computer resource, subject to compliance of procedure as laid down here.\\nThis power can be exercised if the Central Government or the State Government, as the case may be, is\\nsatisfied that it is necessary or expedient in the interest of sovereignty or integrity of India, defence of\\nIndia, security of the State, friendly relations with foreign States or public order or for preventing\\nincitement to the commission of any cognizable offence relating to above or for investigation of any\\noffence. In any such case too, the necessary procedure as may be prescribed, is to be followed and the\\nreasons for taking such action are to be recorded in writing, by order, directing any agency of the\\nappropriate Government. The subscriber or intermediary shall extend all facilities and technical\\nassistance when called upon to do so.\\nSection 69A inserted in the ITAA, vests with the Central Government or any of its officers\\nwith the powers to issue directions for blocking for public access of any information through\\nany computer resource, under the same circumstances as mentioned above. Section 69B\\ndiscusses the power to authorise to monitor and collect traffic data or information through any\\ncomputer resource.\\nCommentary on the powers to intercept, monitor and block websites: In short, under the\\nconditions laid down in the Section, power to intercept, monitor or decrypt does exist. It would\\nbe interesting to trace the history of telephone tapping in India and the legislative provisions\\n(or the lack of it?) in our nation and compare it with the powers mentioned here. Until the\\npassage of this Section in the ITAA, phone tapping was governed by Clause 5(2) of the Indian\\nTelegraph Act of 1885, which said that “On the occurrence of any public emergency, or in the\\ninterest of the public safety, the Government may, if satisfied that it is necessary or expedient\\nso to do in the interests of the sovereignty and integrity of India, the security of the State,\\nfriendly relations with foreign States or public order or for preventing incitement to the\\ncommission of an offence, for reasons to be recorded in writing, by order, direct that any\\nmessage or class of messages to or from any person or class of persons, or relating to any\\nparticular subject, brought for transmission by or transmitted or received by any telegraph,\\nshall not be transmitted, or shall be intercepted or detained, or shall be disclosed to the\\nGovernment making the order or an officer thereof mentioned in the order”. Other sections of\\nthe act mention that the government should formulate “precautions to be taken for preventing\\nthe improper interception or disclosure of messages”. There have been many attempts, rather\\nmany requests, to formulate rules to govern the operation of Clause 5(2). But ever since 1885,\\x0c11\\nno government has formulated any such precautions, maybe for obvious reasons to retain the\\nspying powers for almost a century.\\nA writ petition was filed in the Supreme Court in 1991 by the People’s Union for Civil\\nLiberties, challenging the constitutional validity of this Clause 5(2). The petition argued that it\\ninfringed the constitutional right to freedom of speech and expression and to life and personal\\nliberty. In December 1996, the Supreme Court delivered its judgment, pointing out that\\n“unless a public emergency has occurred or the interest of public safety demands, the\\nauthorities have no jurisdiction to exercise the powers” given them under 5(2). They went on\\nto define them thus: a public emergency was the “prevailing of a sudden condition or state of\\naffairs affecting the people at large calling for immediate action”, and public safety “means the\\nstate or condition of freedom from danger or risk for the people at large”. Without those two,\\nhowever “necessary or expedient”, it could not do so. Procedures for keeping such records and\\nthe layer of authorities etc were also stipulated.\\nNow, this Section 69 of ITAA is far more intrusive and more powerful than the above-cited\\nprovision of Indian Telegraph Act 1885. Under this ITAA Section, the nominated\\nGovernment official will be able to listen in to all phone calls, read the SMSs and emails, and\\nmonitor the websites that one visited, subject to adherence to the prescribed procedures and\\nwithout a warrant from a magistrate’s order. In view of the foregoing, this Section was\\ncritizised to be draconian vesting the government with much more powers than required.\\nHaving said this, we should not be oblivious to the fact that this power (of intercepting,\\nmonitoring and blocking) is something which the Government represented by the Indian\\nComputer Emergency Response Team, (the National Nodal Agency, as nominated in\\nSection 70B of ITAA) has very rarely exercised. Perhaps believing in the freedom of\\nexpression and having confidence in the self-regulative nature of the industry, the CERT-In has\\nstated that these powers are very sparingly (and almost never) used by it.\\nCritical Information Infrastructure and Protected System have been discussed in Section 70.\\nThe Indian Computer Emergency Response Team (CERT-In) coming under the Ministry of\\nInformation and Technology, Government of India, has been designated as the National Nodal\\nAgency for incident response. By virtue of this, CERT-In will perform activities like\\ncollection, analysis and dissemination of information on cyber incidents, forecasts and alerts of\\ncyber security incidents, emergency measures for handling cyber security incidents etc.\\nThe role of CERT-In in e-publishing security vulnerabilities and security alerts is remarkable.\\nThe Minister of State for Communications and IT Mr.Sachin Pilot said in a written reply to\\nthe Rajya Sabha said that (as reported in the Press), CERT-In has handled over 13,000 such\\nincidents in 2011 compared to 8,266 incidents in 2009. CERT-In has observed that there is significant\\nincrease in the number of cyber security incidents in the country. A total of 8,266, 10,315 and 13,301\\nsecurity incidents were reported to and handled by CERT-In during 2009, 2010 and 2011, respectively,\"\\nThese security incidents include website intrusions, phishing, network probing, spread of malicious\\ncode like virus, worms and spam, he added. Hence the role of CERT-In is very crucial and there are\\nmuch expectations from CERT In not just in giving out the alerts but in combating cyber crime, use the\\nweapon of monitoring the web-traffic, intercepting and blocking the site, whenever so required and with\\ndue process of law.\\nPenalty for breach of confidentiality and privacy is discussed in Section 72 with the punishment being\\nimprisonment for a term upto two years or a fine of one lakh rupees or both.\\x0c12\\nConsidering the global nature of cyber crime and understanding the real time scenario of fraudster\\nliving in one part of the world and committing a data theft or DoS(Denial of Service)\\nkind of an attack or other cyber crime in an entirely different part of the world, Section 75 clearly\\nstates that the Act applies to offences or contravention committed outside India, if the contravention or\\nthe offence involves a computer or a computer network located in India.\\nThis Act has over-riding provisions especially with regard to the regulations stipulated in the Code of\\nCriminal Procedure. As per Section 78, notwithstanding anything contained in the Code of Criminal\\nProcedure, a police officer not below the rank of an Inspector shall investigate an offence under this\\nAct. Such powers were conferred to officers not below the rank of a Deputy Superintendent of Police\\nearlier in the ITA which was later amended as Inspector in the ITAA.\\nDue Diligence: Liability of intermediaries and the concept of Due Diligence has been discussed in\\nSection 79. As per this, intermediary shall not be liable for any third party information hosted by him,\\nif his function is limited to providing access to a communication system over which information made\\navailable by third parties is transmitted or temporarily stored or hosted or if he does not initiate the\\ntransmission, select the receiver of the transmission and select or modify the information contained in\\nthe transmission and if he observes due diligence and follows the guidelines prescribed by the Central\\nGovernment.\\nThis concept of due diligence is also much being debated. Due Diligence was first discussed as an\\nimmediate fallout of the famous bazee.com case in New Delhi, when the NRI CEO of the company was\\narrested for making the MMS clipping with objectionable obscene material depicting school children\\nwas made available in the public domain website owned by him, for sale (and later the CD was sold).\\nThe larger issue being discussed at that time was how far is the content provider responsible and how\\nfar the Internet Service Provider and what is due diligence which as the CEO of the company, he should\\nhave exercised.\\nAfter passage of the ITAA and the introduction of ‘reasonable security practices and procedures’ and\\nthe responsibility of body corporate as seen earlier in Section 43A, and to set at rest some confusion on\\nthe significance of due diligence and what constitutes due diligence, the DIT came out with a set of\\nrules titled Information Technology (Intermediaries Guidelines) Rules on 11 April 2011. As per this,\\n“the intermediary, on whose computer system the information is stored or hosted or published, upon\\nobtaining knowledge by itself or been brought to actual knowledge by an affected person in writing or\\nthrough email signed with electronic signature about any such information as mentioned in sub-rule (2)\\nabove, shall act within thirty six hours and where applicable, work with user or owner of such\\ninformation to disable such information that is in contravention of sub-rule (2). Further the intermediary\\nshall preserve such information and associated records for at least ninety days for investigation\\npurposes…..”\\nIn essence, an intermediary shall be liable for any contravention of law committed by any user unless\\nthe Intermediary can prove that he has exercised due diligence and has not conspired or abetted in the\\nact of criminality.\\nPower to enter, search etc has been described in Section 80. Notwithstanding anything contained in the\\nCode of Criminal Procedure, any police officer, not below the rank of an Inspector or any other officer\\n….authorised ….may enter any public place and search and arrest without warrant any person found\\ntherein who is reasonably suspected of having committed or of committing or of being about to commit\\x0c13\\nany offence under this Act. This is another effective weapon that has been rarely and almost never\\nutilised by the police officers.\\nThe Act is applicable to electronic cheques and truncated cheques (ie the image of cheque being\\npresented and processed curtailing and truncating the physical movement of the cheque from the\\ncollecting banker to the paying banker).\\nOverriding powers of the Act and the powers of Central Government to make rules and that of State\\nGovernments to make rules wherever necessary have been discussed in the Sections that follow.\\nOther Acts amended by the ITA:\\nThe Indian Penal Code, 1860: Normally referred to as the IPC, this is a very powerful legislation and\\nprobably the most widely used in criminal jurisprudence, serving as the main criminal code of India.\\nEnacted originally in 1860 and amended many time since, it covers almost all substantive aspects of\\ncriminal law and is supplemented by other criminal provisions. In independent India, many special\\nlaws have been enacted with criminal and penal provisions which are often referred to and relied upon,\\nas an additional legal provision in cases which refer to the relevant provisions of IPC as well.\\nITA 2000 has amended the sections dealing with records and documents in the IPC by inserting the\\nword ‘electronic’ thereby treating the electronic records and documents on a par with physical records\\nand documents. The Sections dealing with false entry in a record or false document etc (eg 192, 204,\\n463, 464, 464, 468 to 470, 471, 474, 476 etc) have since been amended as electronic record and\\nelectronic document thereby bringing within the ambit of IPC, all crimes to an electronic record and\\nelectronic documents just like physical acts of forgery or falsification of physical records.\\nIn practice, however, the investigating agencies file the cases quoting the relevant sections from IPC in\\naddition to those corresponding in ITA like offences under IPC 463,464, 468 and 469 read with the\\nITA/ITAA Sections 43 and 66, to ensure the evidence or punishment stated at least in either of the\\nlegislations can be brought about easily.\\nThe Indian Evidence Act 1872: This is another legislation amended by the ITA. Prior to the passing\\nof ITA, all evidences in a court were in the physical form only. With the ITA giving recognition to all\\nelectronic records and documents, it was but natural that the evidentiary legislation in the nation be\\namended in tune with it. In the definitions part of the Act itself, the “all documents including electronic\\nrecords” were substituted. Words like ‘digital signature’, ‘electronic form’, ‘secure electronic record’\\n‘information’ as used in the ITA, were all inserted to make them part of the evidentiary mechanism in\\nlegislations.\\nAdmissibility of electronic records as evidence as enshrined in Section 65B of the Act assumes\\nsignificance. This is an elaborate section and a landmark piece of legislation in the area of evidences\\nproduced from a computer or electronic device. Any information contained in an electronic record\\nwhich is printed on a paper, stored, recorded or copied in optical or magnetic media produced by a\\ncomputer shall be treated like a document, without further proof or production of the original, if the\\nconditions like these are satisfied: (a) the computer output containing the information was produced by\\nthe computer during the period over which the computer was used regularly by lawful persons.. (b)\\nthe information ...derived was regularly fed into the computer in the ordinary course of the said\\nactivities; (c) throughout the material part of the said period, the computer was operating properly ......\\nand ......a certificate signed by a person .....responsible etc.\\x0c14\\nTo put it in simple terms, evidences (information) taken from computers or electronic storage devices\\nand produced as print-outs or in electronic media are valid if they are taken from system handled\\nproperly with no scope for manipulation of data and ensuring integrity of data produced directly with or\\nwithout human intervention etc and accompanied by a certificate signed by a responsible person\\ndeclaring as to the correctness of the records taken from a system a computer with all the precautions as\\nlaid down in the Section.\\nHowever, this Section is often being misunderstood by one part of the industry to mean that computer\\nprint-outs can be taken as evidences and are valid as proper records, even if they are not signed. We\\nfind many computer generated letters emanating from big corporates with proper space below for\\nsignature under the words “Your faithfully” or “truly” and the signature space left blank, with a Post\\nScript remark at the bottom “This is a computer generated letter and hence does not require signature”.\\nThe Act does not anywhere say that ‘computer print-outs need not be signed and can be taken as\\nrecord’.\\nThe Bankers’ Books Evidence(BBE) Act 1891 Amendment to this Act has been included as the third\\nschedule in ITA. Prior to the passing of ITA, any evidence from a bank to be produced in a court,\\nnecessitated production of the original ledger or other register for verification at some stage with the\\ncopy retained in the court records as exhibits. With the passing of the ITA the definitions part of the\\nBBE Act stood amended as: \"’bankers\\n\\' books’ include ledgers, day-books, cash-books, account-books and all other books used in the\\nordinary business of a bank whether kept in the written form or as printouts of data stored in a floppy,\\ndisc, tape or any other form of electro-magnetic data storage device”. When the books consist of\\nprintouts of data stored in a floppy, disc, tape etc, a printout of such entry ...certified in accordance with\\nthe provisions ....to the effect that it is a printout of such entry or a copy of such printout by the\\nprincipal accountant or branch manager; and (b) a certificate by a person in-charge of computer system\\ncontaining a brief description of the computer system and the particulars of the safeguards adopted by\\nthe system to ensure that data is entered or any other operation performed only by authorised persons;\\nthe safeguards adopted to prevent and detect unauthorised change of data ...to retrieve data that is lost\\ndue to systemic failure or .....\\nIn short, just like in the Indian Evidence Act, the provisions in Bankers Books Evidence Act make the\\nprintout from a computer system or a floppy or disc or a tape as a valid document and evidence,\\nprovided, such print-out is accompanied by a certificate stating that it is a true extract from the official\\nrecords of the bank and that such entries or records are from a computerised system with proper\\nintegrity of data, wherein data cannot be manipulated or accessed in an unauthorised manner or is not\\nlost or tamperable due to system failure or such other reasons.\\nHere again, let us reiterate that the law does not state that any computerised print-out even if not\\nsigned, constitutes a valid record. But still even many banks of repute (both public sector and private\\nsector) often send out printed letters to customers with the space for signature at the bottom left blank\\nafter the line “Yours faithfully” etc and with a remark as Post Script reading: “This is a computer\\ngenerated letter and hence does not require signature”. Such interpretation is grossly misleading and\\nsends a message to public that computer generated reports or letters need not be signed, which is never\\nmentioned anywhere in nor is the import of the ITA or the BBE.\\nThe next Act that was amended by the ITA is the Reserve Bank of India Act, 1934. Section 58 of the\\nAct sub-section (2), after clause (p), a clause relating to the regulation of funds transfer through\\x0c15\\nelectronic means between banks (ie transactions like RTGS and NEFT and other funds transfers) was\\ninserted, to facilitate such electronic funds transfer and ensure legal admissibility of documents and\\nrecords therein.\\nObservations on ITA and ITAA:\\nHaving discussed in detail all the provisions of ITA and ITAA, let us now look at some of the broader\\nareas of omissions and commissions in the Act and the general criticism the Acts have faced over the\\nyears.\\nAwareness: There is no serious provision for creating awareness and putting such initiatives in place in\\nthe Act. The government or the investigating agencies like the Police department (whose job has been\\nmade comparatively easier and focused, thanks to the passing of the IT Act), have taken any serious\\nstep to create public awareness about the provisions in these legislations, which is absolutely essential\\nconsidering the fact that this is a new area and technology has to be learnt by all the stake-holders like\\nthe judicial officers, legal professionals, litigant public and the public or users at large. Especially,\\nprovisions like scope for adjudication process is never known to many including those in the\\ninvestigating agencies.\\nJurisdiction: This is a major issue which is not satisfactorily addressed in the ITA or ITAA.\\nJurisdiction has been mentioned in Sections 46, 48, 57 and 61 in the context of adjudication process and\\nthe appellate procedure connected with and again in Section 80 and as part of the police officers’\\npowers to enter, search a public place for a cyber crime etc. In the context of electronic record, Section\\n13 (3) and (4) discuss the place of dispatch and receipt of electronic record which may be taken as\\njurisprudence issues.\\nHowever some fundamental issues like if the mail of someone is hacked and the accused is a resident of\\na city in some state coming to know of it in a different city, which police station does he go to? If he is\\nan employee of a Multi National Company with branches throughout the world and in many metros in\\nIndia and is often on tour in India and he suspects another individual say an employee of the same firm\\nin his branch or headquarters office and informs the police that evidence could lie in the suspect’s\\ncomputer system itself, where does he go to file he complaint. Often, the investigators do not accept\\nsuch complaints on the grounds of jurisdiction and there are occasions that the judicial officers too have\\nhesitated to deal with such cases. The knowledge that cyber crime is geography-agnostic, borderless,\\nterritory-free and sans all jurisdiction and frontiers and happens in ‘cloud’ or the ‘space’, has to be\\nspread and proper training is to be given to all concerned players in the field.\\nEvidences: Evidences are a major concern in cyber crimes. Pat of evidences is the ‘crime scene’\\nissues. In cyber crime, there is no cyber crime. We cannot mark a place nor a computer nor a network,\\nnor seize the hard-disk immediately and keep it under lock and key keep it as an exhibit taken from the\\ncrime scene.\\x0c16\\nVery often, nothing could be seen as a scene in cyber crime! The evidences, the data, the\\nnetwork and the related gadgets along with of course the log files and trail of events emanating\\nor recorded in the system are actually the crime scene. While filing cases under IT Act, be it as\\na civil case in the adjudication process or a criminal complaint filed with the police, many often,\\nevidences may lie in some system like the intermediaries’ computers or some times in the\\nopponent’s computer system too. In all such cases, unless the police swing into action swiftly\\nand seize the systems and capture the evidences, such vital evidences could be easily destroyed.\\nIn fact, if one knows that his computer is going to be seized, he would immediately go for\\ndestruction of evidences (formatting, removing the history, removing the cookies, changing the\\nregistry and user login set ups, reconfiguring the system files etc) since most of the computer\\nhistory and log files are volatile in nature.\\nThere is no major initiative in India on common repositories of electronic evidences by which\\nin the event of any dispute (including civil) the affected computer may be handed over to a\\ncommon trusted third party with proper software tools, who may keep a copy of the entire disk\\nand return the original to the owner, so that he can keep using it at will and the copy will be\\nproduced as evidence whenever required. For this there are software tools like ‘EnCase’ wih a\\nglobal recognition and our own C-DAC tools which are available with much retrieval facilities,\\nsearch features without giving any room for further writing and preserving the original version\\nwith date stamp for production as evidence.\\nNon coverage of many crimes: While there are many legislations in not only many Western\\ncountries but also some smaller nations in the East, India has only one legislation -- the ITA\\nand ITAA. Hence it is quite natural that many issues on cyber crimes and many crimes per se\\nare left uncovered. Many cyber crimes like cyber squatting with an evil attention to extort\\nmoney. Spam mails, ISP’s liability in copyright infringement, data privacy issues have not\\nbeen given adequate coverage.\\nBesides, most of the Indian corporate including some Public Sector undertakings use\\nOperating Systems that are from the West especially the US and many software utilities and\\nhardware items and sometimes firmware are from abroad. In such cases, the actual reach and\\nimport of IT Act Sections dealing with a utility software or a system software or an Operating\\nSystem upgrade or update used for downloading the software utility, is to be specifically\\naddressed, as otherwise a peculiar situation may come, when the user may not know whether\\nthe upgrade or the patch is getting downloaded or any spyware getting installed. The Act does\\nnot address the government’s policy on keeping the backup of corporates including the PSUs\\nand PSBs in our county or abroad and if kept abroad, the subjective legal jurisprudence on such\\nsoftware backups.\\nWe find, as has been said earlier in the chapter, that most of the cyber crimes in the nation are\\nstill brought under the relevant sections of IPC read with the comparative sections of ITA or\\nthe ITAA which gives a comfort factor to the investigating agencies that even if the ITA part of\\nthe case is lost, the accused cannot escape from the IPC part.\\x0c17\\nTo quote the noted cyber law expert in the nation and Supreme Court advocate Shri Pavan\\nDuggal, “While the lawmakers have to be complemented for their admirable work removing\\nvarious deficiencies in the Indian Cyberlaw and making it technologically neutral, yet it\\nappears that there has been a major mismatch between the expectation of the nation and the\\nresultant effect of the amended legislation. The most bizarre and startling aspect of the new\\namendments is that these amendments seek to make the Indian cyberlaw a cyber crime friendly\\nlegislation; - a legislation that goes extremely soft on cyber criminals, with a soft heart; a\\nlegislation that chooses to encourage cyber criminals by lessening the quantum of punishment\\naccorded to them under the existing law; ….. a legislation which makes a majority of\\ncybercrimes stipulated under the IT Act as bailable offences; a legislation that is likely to pave\\nway for India to become the potential cyber crime capital of the world……”\\nLet us not be pessimistic that the existing legislation is cyber criminal friendly or paves the way to\\nincrease crimes. Certainly, it does not. It is a commendable piece of legislation, a landmark first step\\nand a remarkable mile-stone in the technological growth of the nation. But let us not be complacent that\\nthe existing law would suffice. Let us remember that the criminals always go faster than the\\ninvestigators and always try to be one step ahead in technology. After all, steganography was used in\\nthe Parliament Attack case to convey a one-line hidden message from one criminal to another which\\nwas a lesson for the investigators to know more about the technology of steganography. Similarly\\nSatellite phones were used in the Mumbai attack case in November 2008 after which the investigators\\nbecame aware of the technological perils of such gadgets, since until then, they were relying on cell\\nphones and the directional tracking by the cell phone towers and Call Details Register entries only.\\nHopefully, more and more awareness campaign will take place and the government will be conscious of\\nthe path ahead to bring more and more legislations in place. Actually, bringing more legislations may\\njust not be sufficient, because the conviction rate in Cyber crime offences is among the lowest in the\\nnation, much lower than the rate in IPC and other offences. The government should be aware that it is\\nnot the severity of punishment that is a deterrent for the criminals, but it is the certainty of punishment.\\nIt is not the number of legislations in a society that should prevent crimes but it is the certainty of\\npunishment that the legislation will bring.\\nLet us now discuss some of the other relevant legislations in the nation that deal with cyber crimes in\\nvarious sectors.\\nPrevention of Money Laundering Act:\\nBlack money has always been a serious evil in any developing economy. Nation builders, lawmakers\\nand particularly the country’s financial administrators have always taken persistent efforts to curb the\\nevil of black money and all sorts of illegally earned income. A major initiative taken in this direction in\\nIndia is the Anti Money Laundering Act 2002. A main objective of the Act was to provide for\\nconfiscation of property derived from, or involved in, money laundering.\\nMoney laundering though not defined in the Act, can be construed to mean directly or indirectly\\nattempting to indulge in any process or activity connected with the proceeds of crime and projecting it\\nas untainted property. The Act stipulates that whoever commits the offence of money laundering shall\\nbe punishable with rigorous imprisonment for a term which shall not be less than three years but may\\nextend to seven years and also be liable to a fine which may extend to five lakh rupees.\\nMoney laundering involves a process of getting the money from illegal sources, layering it in any legal\\nsource, integrating it as part of any legal system like banking and actually using it. Since the banking as\\x0c18\\nan industry has a major and significant role to play in the act of money laundering, it is now a serious\\nresponsibility on the part of banks to ensure that banking channel is not used in the criminal activity.\\nMuch more than a responsibility, it is now a compliance issue as well.\\nObligations of banks include maintenance of records of all transactions of the nature and value\\nspecified in the rules, furnish information of the transactions within the prescribed time, whenever\\nwarranted and verify and maintain records of the identity of all customers. Hence, as a corollary,\\nadherence to Know Your Customer norms and maintenance of all KYC records assumes a very major\\nsignificance and becomes a compliance issue. Records of cash transactions and suspicious transactions\\nare to be kept and reported as stipulated. Non compliance on any of these will render the concerned\\nbank official liable for the offence of money laundering and guilty under the Act.\\ne-Records Maintenance Policy of Banks:\\nComputerisation started in most of the banks in India from end 80’s in a small way in the form of stand-\\nalone systems called Advanced Ledger Posting Machines (Separate PC for every counter/activity)\\nwhich then led to the era of Total Branch Automation or Computerisation in early or mid 90’s. TBA or\\nTBC as it was popularly called, marked the beginning of a networked environment on a Local Area\\nNetwork under a client-server architecture when records used to be maintained in electronic manner in\\nhard-disks and external media like tapes etc for backup purposes.\\nEver since passing of the ITA and according of recognition to electronic records, it has become\\nmandatory on the part of banks to maintain proper computerized system for electronic records.\\nConventionally, all legacy systems in the banks always do have a record maintenance policy often with\\nRBI’s and their individual Board approval stipulating the period of preservation for all sorts of records,\\nledgers, vouchers, register, letters, documents etc.\\nThanks to computerisation and introduction of computerized data maintenance and often computer-\\ngenerated vouchers also, most of the banks became responsive to the computerized environment and\\nquite a few have started the process of formulating their own Electronic Records Maintenance Policy.\\nIndian Banks’ Association took the initiative in bringing out a book on Banks’ e-Records Maintenance\\nPolicy to serve as a model for use and adoption in banks suiting the individual bank’s technological set-\\nup. Hence banks should ensure that e-records maintenance policy with details of e-records, their nature,\\ntheir upkeep, the technological requirements, off-site backup, retrieval systems, access control and\\naccess privileges initiatives should be in place, if not already done already.\\nOn the legal compliance side especially after the Rules were passed in April 2011, on the “Reasonable\\nSecurity Practices and Procedures” as part of ITAA 2008 Section 43A, banks should strive well to\\nprove that they have all the security policies in place like compliance with ISO 27001 standards etc and\\ne-records are maintained. Besides, the certificate to be given as an annexure to e-evidences as\\nstipulated in the BBE Act also emphasizes this point of maintenance of e-records in a proper ensuring\\nproper backup, ensuring against tamperability, always ensuring confidentiality, integrity, availability\\nand Non Repudiation.\\nThis policy should not be confused with the Information Technology Business Continuity and Disaster\\nRecovery Plan or Policy nor the Data Warehousing initiatives. Focus on all these three policies (BC-\\nDRP, DWH and E-records Maintenance Policy) are individually different, serving different purposes,\\nusing different technologies and maybe coming under different administrative controls too at the\\nmanagerial level.\\x0c19\\nLegislations in other nations:\\nAs against the lone legislation ITA and ITAA in India, in many other nations globally, there are many\\nlegislations governing e-commerce and cyber crimes going into all the facets of cyber crimes. Data\\nCommunication, storage, child pornography, electronic records and data privacy have all been\\naddressed in separate Acts and Rules giving thrust in the particular area focused in the Act.\\nIn the US, they have the Health Insurance Portability and Accountability Act popularly known\\nas HIPAA which inter alia, regulates all health and insurance related records, their upkeep and\\nmaintenance and the issues of privacy and confidentiality involved in such records.\\nCompanies dealing with US firms ensure HIPAA compliance insofar as the data relating to\\nsuch corporate are handled by them. The Sarbanes-Oxley Act (SOX) signed into law in 2002\\nand named after its authors Senator Paul Sarbanes and Representative Paul Oxley, mandated a\\nnumber of reforms to enhance corporate responsibility, enhance financial disclosures, and\\ncombat corporate and accounting fraud. Besides, there are a number of laws in the US both at\\nthe federal level and at different states level like the Cable Communications Policy Act,\\nChildren’s Internet Protection Act, Children’s Online Privacy Protection Act etc.\\nIn the UK, the Data Protection Act and the Privacy and Electronic Communications\\nRegulations etc are all regulatory legislations already existing in the area of information\\nsecurity and cyber crime prevention, besides cyber crime law passed recently in August 2011.\\nSimilarly, we have cyber crime legislations and other rules and regulations in other nations.\\nConclusion: To sum up, though a crime-free society is Utopian and exists only in dream-\\nland, it should be constant endeavour of rules to keep the crimes lowest. Especially in a\\nsociety that is dependent more and more on technology, crime based on electronic offences are\\nbound to increase and the law makers have to go the extra mile compared to the fraudsters, to\\nkeep them at bay. Technology is always a double-edged sword and can be used for both the\\npurposes – good or bad. Steganography, Trojan Horse, Scavenging (and even DoS or DDoS)\\nare all technologies and per se not crimes, but falling into the wrong hands with a criminal\\nintent who are out to capitalize them or misuse them, they come into the gamut of cyber crime\\nand become punishable offences. Hence, it should be the persistent efforts of rulers and law\\nmakers to ensure that technology grows in a healthy manner and is used for legal and ethical\\nbusiness growth and not for committing crimes.\\nIt should be the duty of the three stake holders viz i) the rulers, regulators, law makers and\\ninvestigators ii) Internet or Network Service Providers or banks and other intermediaries and\\x0c20\\n*******.******\\niii) the users to take care of information security playing their respective role within the\\npermitted parameters and ensuring compliance with the law of the land.\\nSource: Book on “IT” Security of IIBF Published by M/s TaxMann Publishers\\n*****************', 'content_type': 'text', 'score': None, 'meta': {'name': 'Cyber_laws_India_new.pdf'}, 'embedding': None, 'id': '3ebfcd49dde7074029bb9db6702c07b1'}>]\n"
          ]
        }
      ],
      "source": [
        "from haystack.utils import clean_wiki_text, convert_files_to_docs, fetch_archive_from_http\n",
        "from haystack.nodes import PDFToTextConverter\n",
        "# Let's first fetch some documents that we want to query\n",
        "# Here: 517 Wikipedia articles for Game of Thrones\n",
        "doc_dir = \"/content/drive/MyDrive/demo_techM\"\n",
        "\n",
        "\n",
        "# Convert files to dicts\n",
        "# You can optionally supply a cleaning function that is applied to each doc (e.g. to remove footers)\n",
        "# It must take a str as input, and return a str.\n",
        "converter = PDFToTextConverter(remove_numeric_tables=True, valid_languages=[\"en\"])\n",
        "doc_pdf = converter.convert(file_path=\"data/tutorial8/bert.pdf\", meta=None)[0]\n",
        "\n",
        "docs = convert_files_to_docs(dir_path=doc_dir,  split_paragraphs=True)\n",
        "\n",
        "# We now have a list of dictionaries that we can write to our document store.\n",
        "# If your texts come from a different source (e.g. a DB), you can of course skip convert_files_to_dicts() and create the dictionaries yourself.\n",
        "# The default format here is:\n",
        "# {\n",
        "#    'content': \"<DOCUMENT_TEXT_HERE>\",\n",
        "#    'meta': {'name': \"<DOCUMENT_NAME_HERE>\", ...}\n",
        "# }\n",
        "# (Optionally: you can also add more key-value-pairs here, that will be indexed as fields in Elasticsearch and\n",
        "# can be accessed later for filtering or shown in the responses of the Pipeline)\n",
        "\n",
        "# Let's have a look at the first 3 entries:\n",
        "print(docs)\n",
        "\n",
        "# Now, let's write the dicts containing documents to our DB.\n",
        "document_store.write_documents(docs)"
      ]
    },
    {
      "cell_type": "markdown",
      "metadata": {
        "id": "ovU0mElm3zqz"
      },
      "source": [
        "## Initialize Retriever, Reader & Pipeline\n",
        "\n",
        "### Retriever\n",
        "\n",
        "Retrievers help narrowing down the scope for the Reader to smaller units of text where a given question could be answered.\n",
        "They use some simple but fast algorithm.\n",
        "\n",
        "**Here:** We use Elasticsearch's default BM25 algorithm\n",
        "\n",
        "**Alternatives:**\n",
        "\n",
        "- Customize the `BM25Retriever`with custom queries (e.g. boosting) and filters\n",
        "- Use `TfidfRetriever` in combination with a SQL or InMemory Document store for simple prototyping and debugging\n",
        "- Use `EmbeddingRetriever` to find candidate documents based on the similarity of embeddings (e.g. created via Sentence-BERT)\n",
        "- Use `DensePassageRetriever` to use different embedding models for passage and query (see Tutorial 6)"
      ]
    },
    {
      "cell_type": "code",
      "execution_count": null,
      "metadata": {
        "id": "3ohTtfIH3zqz"
      },
      "outputs": [],
      "source": [
        "from haystack.nodes import BM25Retriever\n",
        "\n",
        "retriever = BM25Retriever(document_store=document_store)"
      ]
    },
    {
      "cell_type": "code",
      "execution_count": null,
      "metadata": {
        "pycharm": {
          "is_executing": false,
          "name": "#%%\n"
        },
        "id": "tBPTR2Nh3zq0"
      },
      "outputs": [],
      "source": [
        "# Alternative: An in-memory TfidfRetriever based on Pandas dataframes for building quick-prototypes with SQLite document store.\n",
        "\n",
        "# from haystack.nodes import TfidfRetriever\n",
        "# retriever = TfidfRetriever(document_store=document_store)"
      ]
    },
    {
      "cell_type": "markdown",
      "metadata": {
        "id": "sDij9-b23zq1"
      },
      "source": [
        "### Reader\n",
        "\n",
        "A Reader scans the texts returned by retrievers in detail and extracts the k best answers. They are based\n",
        "on powerful, but slower deep learning models.\n",
        "\n",
        "Haystack currently supports Readers based on the frameworks FARM and Transformers.\n",
        "With both you can either load a local model or one from Hugging Face's model hub (https://huggingface.co/models).\n",
        "\n",
        "**Here:** a medium sized RoBERTa QA model using a Reader based on FARM (https://huggingface.co/deepset/roberta-base-squad2)\n",
        "\n",
        "**Alternatives (Reader):** TransformersReader (leveraging the `pipeline` of the Transformers package)\n",
        "\n",
        "**Alternatives (Models):** e.g. \"distilbert-base-uncased-distilled-squad\" (fast) or \"deepset/bert-large-uncased-whole-word-masking-squad2\" (good accuracy)\n",
        "\n",
        "**Hint:** You can adjust the model to return \"no answer possible\" with the no_ans_boost. Higher values mean the model prefers \"no answer possible\"\n",
        "\n",
        "#### FARMReader"
      ]
    },
    {
      "cell_type": "code",
      "execution_count": null,
      "metadata": {
        "pycharm": {
          "is_executing": false
        },
        "id": "gPXYJRch3zq1",
        "colab": {
          "base_uri": "https://localhost:8080/",
          "height": 313,
          "referenced_widgets": [
            "4dc32c2bf75048da9333a9e72735a8f9",
            "c934889f3de540908e4ffdb7effc134b",
            "f4ec354df1ed4e3eadbecd1ece1758ab",
            "71e74c6bb29a47c9b9df24b4f239adc4",
            "a18b2330963b4ef5b5fb176114de0cb2",
            "d75fee37fb9b481caa12a31a223a2aa0",
            "a991075d43954a8f95a8feca7df6a94f",
            "2b2cd7ae848243b196d26331cb3a35ff",
            "c31c303c31164eaab42b302317a2e0d3",
            "b2f5780363cb4e4bbbce4e50f244ed6a",
            "7c8ef53435384588892cd4a3eebe0524",
            "7d160422f9f6447c8dc0c271382c8d7a",
            "04be880f53be49969936405d9251f5d0",
            "142c1d704aec4fa3865afd00014e3f23",
            "c43a5047753340f7bf5b52a7a5a9f318",
            "df7871b720744beb952850b63ae61585",
            "793989882a3248b68f1ff2a5c692f0df",
            "fcbd633f9bae4b22a7c0081668b3895b",
            "43a4349b6f63430687fae2301f9f8638",
            "03de59e694f04e3380a4b31d2044db14",
            "29cb743c66a940efbe133d42adb07a5e",
            "217e404c39b64d8bb7d982f9c8e53c17",
            "21b75ac68d9c4c319989435a6a72d010",
            "a5ec9231723d48218f7c25a299171899",
            "b0257e0d31b54cb38ff6b8ad75d69351",
            "8f3b5245ae53424abdad76144b6fe195",
            "1f6fe6392d7444a39b0fd370621b5668",
            "1c17394c65754e7f8dcf0b33db78597b",
            "8ed7be6bc1104864bcbdf5b5979e82ac",
            "3dbc04e645fc4bbbb85c4b0f8fceafaf",
            "88660520d7e64e10aae47f20338307dd",
            "2758f83f89934662b3b690cc9ab2525f",
            "d2209e08bf104ceabbc3f5788a2a37b7",
            "02ca7c08c388457da4fefae6569ac192",
            "c54eb331057f4190be7c5a3dceb14a55",
            "46d437f7dd504c6b9a6b71911d709016",
            "d1bef8499395426495c57f63df327d10",
            "5111ed519f254fd0adb7ad68d9a7a867",
            "8718d67010df4b5292ea7785ac214394",
            "391d11c110a444ffb4c6a0f91ffec39f",
            "90222a0180c949a8a2750d7a875c8f58",
            "95a58f3c859c413fa880266b27619335",
            "95129980bbe844bf8c28400a5a694b8c",
            "8b3243fcb0e54bb680e10eb38cb874fb",
            "b805030bebc34e7aa94c16cff75a8350",
            "0519434209bf47739eb5ced3cca89fa5",
            "6b359b4411d9419ea36c654d34662c59",
            "86fec2c6f3664f36bc6c97049e956f46",
            "a59006b6fd234a2d8b88f3df1b895796",
            "a903feecfc2d4e04b016e679c73a663b",
            "82d2c8d8fc2c4043ad8445cc48fc438c",
            "07975513fcb44eb28fbba72ee6202739",
            "41d64974b93a413492b864819da55a54",
            "a575fe5e6fbf49d981633ffe8cc8c09f",
            "69f39b1eb5114e2fbbab782eab2b3cbe",
            "4b9b5e0c00db4889909ec8309de29238",
            "4d433197a0624cbba139e47c3dfa07dc",
            "29b601f50f2b44b0af70bd01008f91c7",
            "67fafe28efb64c3593534732a2f7e317",
            "66c67d08595e408792e52a7b99150e95",
            "1f85297ddc784ec3b00ad34b3c8b89b8",
            "4e46376f29b84e3fbaeacbc1f7f36ce3",
            "378c92d58be04b4686875ba489baa5ca",
            "9a6872ac7f294deb8745df51d785d72b",
            "e62eda2bbf7e43d8b4377c8eb8e2cb0a",
            "5e4dec33650d4548bbf17886cead2c7e"
          ]
        },
        "outputId": "cb293f96-af26-467b-b933-4a12ac7fb26b"
      },
      "outputs": [
        {
          "output_type": "stream",
          "name": "stderr",
          "text": [
            "INFO:haystack.modeling.utils:Using devices: CUDA:0 - Number of GPUs: 1\n",
            "INFO:haystack.modeling.utils:Using devices: CUDA:0 - Number of GPUs: 1\n"
          ]
        },
        {
          "output_type": "display_data",
          "data": {
            "text/plain": [
              "Downloading config.json:   0%|          | 0.00/571 [00:00<?, ?B/s]"
            ],
            "application/vnd.jupyter.widget-view+json": {
              "version_major": 2,
              "version_minor": 0,
              "model_id": "4dc32c2bf75048da9333a9e72735a8f9"
            }
          },
          "metadata": {}
        },
        {
          "output_type": "stream",
          "name": "stderr",
          "text": [
            "INFO:haystack.modeling.model.language_model: * LOADING MODEL: 'deepset/roberta-base-squad2' (Roberta)\n"
          ]
        },
        {
          "output_type": "display_data",
          "data": {
            "text/plain": [
              "Downloading pytorch_model.bin:   0%|          | 0.00/473M [00:00<?, ?B/s]"
            ],
            "application/vnd.jupyter.widget-view+json": {
              "version_major": 2,
              "version_minor": 0,
              "model_id": "7d160422f9f6447c8dc0c271382c8d7a"
            }
          },
          "metadata": {}
        },
        {
          "output_type": "stream",
          "name": "stderr",
          "text": [
            "INFO:haystack.modeling.model.language_model:Auto-detected model language: english\n",
            "INFO:haystack.modeling.model.language_model:Loaded 'deepset/roberta-base-squad2' (Roberta model) from model hub.\n"
          ]
        },
        {
          "output_type": "display_data",
          "data": {
            "text/plain": [
              "Downloading tokenizer_config.json:   0%|          | 0.00/79.0 [00:00<?, ?B/s]"
            ],
            "application/vnd.jupyter.widget-view+json": {
              "version_major": 2,
              "version_minor": 0,
              "model_id": "21b75ac68d9c4c319989435a6a72d010"
            }
          },
          "metadata": {}
        },
        {
          "output_type": "display_data",
          "data": {
            "text/plain": [
              "Downloading vocab.json:   0%|          | 0.00/878k [00:00<?, ?B/s]"
            ],
            "application/vnd.jupyter.widget-view+json": {
              "version_major": 2,
              "version_minor": 0,
              "model_id": "02ca7c08c388457da4fefae6569ac192"
            }
          },
          "metadata": {}
        },
        {
          "output_type": "display_data",
          "data": {
            "text/plain": [
              "Downloading merges.txt:   0%|          | 0.00/446k [00:00<?, ?B/s]"
            ],
            "application/vnd.jupyter.widget-view+json": {
              "version_major": 2,
              "version_minor": 0,
              "model_id": "b805030bebc34e7aa94c16cff75a8350"
            }
          },
          "metadata": {}
        },
        {
          "output_type": "display_data",
          "data": {
            "text/plain": [
              "Downloading special_tokens_map.json:   0%|          | 0.00/772 [00:00<?, ?B/s]"
            ],
            "application/vnd.jupyter.widget-view+json": {
              "version_major": 2,
              "version_minor": 0,
              "model_id": "4b9b5e0c00db4889909ec8309de29238"
            }
          },
          "metadata": {}
        },
        {
          "output_type": "stream",
          "name": "stderr",
          "text": [
            "INFO:haystack.modeling.utils:Using devices: CUDA:0 - Number of GPUs: 1\n"
          ]
        }
      ],
      "source": [
        "from haystack.nodes import FARMReader\n",
        "\n",
        "# Load a  local model or any of the QA models on\n",
        "# Hugging Face's model hub (https://huggingface.co/models)\n",
        "\n",
        "reader = FARMReader(model_name_or_path=\"deepset/roberta-base-squad2\", use_gpu=True)"
      ]
    },
    {
      "cell_type": "code",
      "execution_count": null,
      "metadata": {
        "id": "F3e68FvK3zq2"
      },
      "outputs": [],
      "source": [
        "from haystack.nodes import TransformersReader\n",
        "# reader = TransformersReader(model_name_or_path=\"distilbert-base-uncased-distilled-squad\", tokenizer=\"distilbert-base-uncased\", use_gpu=-1)"
      ]
    },
    {
      "cell_type": "code",
      "execution_count": null,
      "metadata": {
        "pycharm": {
          "is_executing": false
        },
        "id": "4gS2V3et3zq4"
      },
      "outputs": [],
      "source": [
        "from haystack.pipelines import ExtractiveQAPipeline\n",
        "\n",
        "pipe = ExtractiveQAPipeline(reader, retriever)"
      ]
    },
    {
      "cell_type": "code",
      "source": [
        "q1 = \"What is digital signature?\"\n",
        "q2=\"what are Objectives of I.T. legislation in India?\"\n",
        "q3=\"what is Electronic governance issues and procedures and the legal ?\"\n",
        "q4=\"what is serious evil in any developing economy?\""
      ],
      "metadata": {
        "id": "iazu1QDds0IQ"
      },
      "execution_count": null,
      "outputs": []
    },
    {
      "cell_type": "code",
      "execution_count": null,
      "metadata": {
        "pycharm": {
          "is_executing": false
        },
        "id": "OQSA9JrA3zq4",
        "colab": {
          "base_uri": "https://localhost:8080/"
        },
        "outputId": "3e6210b1-dcc0-467f-fa68-d15adc596cf8"
      },
      "outputs": [
        {
          "output_type": "stream",
          "name": "stderr",
          "text": [
            "Inferencing Samples: 100%|██████████| 3/3 [00:04<00:00,  1.38s/ Batches]\n",
            "Inferencing Samples: 100%|██████████| 3/3 [00:01<00:00,  2.01 Batches/s]\n",
            "ERROR:haystack.modeling.model.predictions:Invalid end offset: \n",
            "(-3460, -3219) with a span answer. \n",
            "ERROR:haystack.modeling.model.predictions:Invalid end offset: \n",
            "(-27929, -27892) with a span answer. \n",
            "Inferencing Samples: 100%|██████████| 3/3 [00:01<00:00,  2.00 Batches/s]\n",
            "ERROR:haystack.modeling.model.predictions:Invalid end offset: \n",
            "(-5268, -5258) with a span answer. \n",
            "ERROR:haystack.modeling.model.predictions:Invalid end offset: \n",
            "(-881, -851) with a span answer. \n",
            "Inferencing Samples: 100%|██████████| 3/3 [00:01<00:00,  1.98 Batches/s]\n",
            "ERROR:haystack.modeling.model.predictions:Invalid end offset: \n",
            "(-4951, -4939) with a span answer. \n",
            "ERROR:haystack.modeling.model.predictions:Invalid end offset: \n",
            "(-2857, -2840) with a span answer. \n"
          ]
        }
      ],
      "source": [
        "# You can configure how many candidates the Reader and Retriever shall return\n",
        "# The higher top_k_retriever, the better (but also the slower) your answers.\n",
        "p1 = pipe.run(query=q1, params={ \"Reader\": {\"top_k\": 5}})\n",
        "p2 = pipe.run(query=q2, params={ \"Reader\": {\"top_k\": 5}})\n",
        "p3 = pipe.run(query=q3, params={ \"Reader\": {\"top_k\": 5}})\n",
        "p4 = pipe.run(query=q4, params={ \"Reader\": {\"top_k\": 5}})"
      ]
    },
    {
      "cell_type": "code",
      "source": [
        "#from pprint import pprint\n",
        "#pprint(prediction)"
      ],
      "metadata": {
        "id": "ISzv-wra-DeX"
      },
      "execution_count": null,
      "outputs": []
    },
    {
      "cell_type": "code",
      "source": [
        "from haystack.utils import print_answers"
      ],
      "metadata": {
        "id": "7xkbknAV9Apt"
      },
      "execution_count": null,
      "outputs": []
    },
    {
      "cell_type": "code",
      "source": [
        "# Change `minimum` to `medium` or `all` to raise the level of detail\n",
        "#print(q1)\n",
        "print_answers(p1, details=\"minimum\")"
      ],
      "metadata": {
        "colab": {
          "base_uri": "https://localhost:8080/"
        },
        "id": "9QyFNYNotsvp",
        "outputId": "c060eabb-1f28-470d-bb4f-af412b30b66d"
      },
      "execution_count": null,
      "outputs": [
        {
          "output_type": "stream",
          "name": "stdout",
          "text": [
            "\n",
            "Query: What is digital signature?\n",
            "Answers:\n",
            "[   {   'answer': 'authentication of electronic record',\n",
            "        'context': 'idity. Digital signature was defined in the ITA -2000 as\\n'\n",
            "                   '“authentication of electronic record” as per procedure '\n",
            "                   'laid down in Section 3 and Section 3 d'},\n",
            "    {   'answer': 'technology neutral',\n",
            "        'context': 'ation Security\\uf020\\n'\n",
            "                   '\\uf0d8 Defining cyber café\\uf020\\n'\n",
            "                   '\\uf0d8 Making digital signature technology neutral\\uf020\\n'\n",
            "                   '\\uf0d8 Defining reasonable security practices to be '\n",
            "                   'followed by corpo'},\n",
            "    {   'answer': '‘Electronic signature',\n",
            "        'context': 'mputer response Emergency Team’ was included.\\n'\n",
            "                   'Digital Signature: ‘Electronic signature’ was defined in '\n",
            "                   'the ITAA -2008 whereas the earlier ITA -2000\\n'\n",
            "                   'co'}]\n"
          ]
        }
      ]
    },
    {
      "cell_type": "code",
      "source": [
        "#print(q2)\n",
        "print_answers(p2, details=\"minimum\")"
      ],
      "metadata": {
        "colab": {
          "base_uri": "https://localhost:8080/"
        },
        "id": "VEc1HX8etd4S",
        "outputId": "947b0985-09be-40d3-e2c0-63921db8d19f"
      },
      "execution_count": null,
      "outputs": [
        {
          "output_type": "stream",
          "name": "stdout",
          "text": [
            "\n",
            "Query: what are Objectives of I.T. legislation in India?\n",
            "Answers:\n",
            "[   {   'answer': 'chnology Business Continuity and Disaster\\n'\n",
            "                  'Recovery Plan or Policy nor the Data Warehousing '\n",
            "                  'initiatives. Focus on all these three policies (BC-\\n'\n",
            "                  'DRP, DWH and E-records Maintenance Policy) are individually '\n",
            "                  'different, serving different purposes,',\n",
            "        'context': '1\\n'\n",
            "                   'Chapter 19\\n'\n",
            "                   'Cyber Laws in India\\n'\n",
            "                   'Objectives: This chapter presents the meaning and '\n",
            "                   'definition of cyber crime, the legislation in India\\n'\n",
            "                   'dealing with offences relating to the use of or concerned '\n",
            "                   'with the abuse of computers or other electronic\\n'\n",
            "                   'g'},\n",
            "    {   'answer': 'gence has been discussed in\\nSection 7',\n",
            "        'context': '1\\n'\n",
            "                   'Chapter 19\\n'\n",
            "                   'Cyber Laws in India\\n'\n",
            "                   'Objectives: This chapter presents the meaning and '\n",
            "                   'definition of cyber crime, the legislation in India\\n'\n",
            "                   'dealing with of'},\n",
            "    {   'answer': 'authentication of electronic records, digital signatures, '\n",
            "                  'electronic\\n'\n",
            "                  'signatures',\n",
            "        'context': '\\n'\n",
            "                   'the chapters that follow deal with authentication of '\n",
            "                   'electronic records, digital signatures, electronic\\n'\n",
            "                   'signatures etc.\\n'\n",
            "                   'Elaborate procedures for cert'}]\n"
          ]
        }
      ]
    },
    {
      "cell_type": "code",
      "source": [
        "#print(q3)\n",
        "print_answers(p3, details=\"minimum\")"
      ],
      "metadata": {
        "colab": {
          "base_uri": "https://localhost:8080/"
        },
        "id": "NeuioSRGte5o",
        "outputId": "a019e049-f2a2-4249-bdb8-2875e0a3281b"
      },
      "execution_count": null,
      "outputs": [
        {
          "output_type": "stream",
          "name": "stdout",
          "text": [
            "\n",
            "Query: what is Electronic governance issues and procedures and the legal ?\n",
            "Answers:\n",
            "[   {   'answer': 'recognition to electronic records',\n",
            "        'context': ' Electronic governance issues and procedures and the '\n",
            "                   'legal\\n'\n",
            "                   'recognition to electronic records is dealt with in detail '\n",
            "                   'in Section 4 followed by descript'},\n",
            "    {   'answer': 'rt of bank',\n",
            "        'context': '1\\n'\n",
            "                   'Chapter 19\\n'\n",
            "                   'Cyber Laws in India\\n'\n",
            "                   'Objectives: This chapter presents the meaning and '\n",
            "                   'definition of cyber crime, the legislation in India\\n'\n",
            "                   'dealing with of'},\n",
            "    {   'answer': 're all technologies and per se',\n",
            "        'context': '1\\n'\n",
            "                   'Chapter 19\\n'\n",
            "                   'Cyber Laws in India\\n'\n",
            "                   'Objectives: This chapter presents the meaning and '\n",
            "                   'definition of cyber crime, the legislation in India\\n'\n",
            "                   'dealing with of'}]\n"
          ]
        }
      ]
    },
    {
      "cell_type": "code",
      "source": [
        "#print(q4)\n",
        "print_answers(p4, details=\"minimum\")"
      ],
      "metadata": {
        "colab": {
          "base_uri": "https://localhost:8080/"
        },
        "id": "pCg-0gGEtffR",
        "outputId": "d76d91ad-7749-42cd-c9be-0b47a485b28f"
      },
      "execution_count": null,
      "outputs": [
        {
          "output_type": "stream",
          "name": "stdout",
          "text": [
            "\n",
            "Query: what is serious evil in any developing economy?\n",
            "Answers:\n",
            "[   {   'answer': 'ers, documen',\n",
            "        'context': '1\\n'\n",
            "                   'Chapter 19\\n'\n",
            "                   'Cyber Laws in India\\n'\n",
            "                   'Objectives: This chapter presents the meaning and '\n",
            "                   'definition of cyber crime, the legislation in India\\n'\n",
            "                   'dealing with of'},\n",
            "    {   'answer': 'on, storage, chil',\n",
            "        'context': '1\\n'\n",
            "                   'Chapter 19\\n'\n",
            "                   'Cyber Laws in India\\n'\n",
            "                   'Objectives: This chapter presents the meaning and '\n",
            "                   'definition of cyber crime, the legislation in India\\n'\n",
            "                   'dealing with of'},\n",
            "    {   'answer': 'gets. The Inf',\n",
            "        'context': 'e of or concerned with the abuse of computers or other '\n",
            "                   'electronic\\n'\n",
            "                   'gadgets. The Information Technology Act 2000 and the I.T. '\n",
            "                   'Amendment Act 2008 have be'}]\n"
          ]
        }
      ]
    }
  ]
}